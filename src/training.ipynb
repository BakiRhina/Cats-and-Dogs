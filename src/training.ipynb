{
 "cells": [
  {
   "cell_type": "markdown",
   "metadata": {},
   "source": [
    "### Importing necessary libraries (torch, matplotlib)"
   ]
  },
  {
   "cell_type": "code",
   "execution_count": 153,
   "metadata": {},
   "outputs": [],
   "source": [
    "import pandas as pd\n",
    "import numpy as np\n",
    "import matplotlib.pyplot as plt\n",
    "import torch.optim as opt\n",
    "import torch.nn as nn\n",
    "import os\n",
    "import cv2\n",
    "from torch.utils.data import DataLoader\n",
    "from torchvision import datasets, transforms"
   ]
  },
  {
   "cell_type": "markdown",
   "metadata": {},
   "source": [
    "### Path to training and testing datasets"
   ]
  },
  {
   "cell_type": "code",
   "execution_count": 154,
   "metadata": {},
   "outputs": [],
   "source": [
    "PATH = \"C:/Users/Ato/Documents/Programming/Python/catdog/src/datasets\"\n",
    "dataset_path = PATH + \"/train\""
   ]
  },
  {
   "cell_type": "markdown",
   "metadata": {},
   "source": [
    "## Preprocessing and Observations"
   ]
  },
  {
   "cell_type": "markdown",
   "metadata": {},
   "source": [
    "#### Entries and number of samples of each class"
   ]
  },
  {
   "cell_type": "code",
   "execution_count": 155,
   "metadata": {},
   "outputs": [
    {
     "name": "stdout",
     "output_type": "stream",
     "text": [
      "25000\n"
     ]
    }
   ],
   "source": [
    "print(len(os.listdir(dataset_path)))\n"
   ]
  },
  {
   "cell_type": "markdown",
   "metadata": {},
   "source": [
    "- Taking a look at the filenames, it is possible extracting the name and label with ease with:"
   ]
  },
  {
   "cell_type": "code",
   "execution_count": 156,
   "metadata": {},
   "outputs": [],
   "source": [
    "filenames = os.listdir(dataset_path)\n",
    "labels = [filename.split('.')[0] for filename in filenames]"
   ]
  },
  {
   "cell_type": "code",
   "execution_count": 157,
   "metadata": {},
   "outputs": [],
   "source": [
    "raw_data = {'filename': filenames, 'label': labels}\n",
    "df = pd.DataFrame(raw_data)\n"
   ]
  },
  {
   "cell_type": "code",
   "execution_count": 158,
   "metadata": {},
   "outputs": [
    {
     "data": {
      "text/html": [
       "<div>\n",
       "<style scoped>\n",
       "    .dataframe tbody tr th:only-of-type {\n",
       "        vertical-align: middle;\n",
       "    }\n",
       "\n",
       "    .dataframe tbody tr th {\n",
       "        vertical-align: top;\n",
       "    }\n",
       "\n",
       "    .dataframe thead th {\n",
       "        text-align: right;\n",
       "    }\n",
       "</style>\n",
       "<table border=\"1\" class=\"dataframe\">\n",
       "  <thead>\n",
       "    <tr style=\"text-align: right;\">\n",
       "      <th></th>\n",
       "      <th>filename</th>\n",
       "      <th>label</th>\n",
       "    </tr>\n",
       "  </thead>\n",
       "  <tbody>\n",
       "    <tr>\n",
       "      <th>0</th>\n",
       "      <td>cat.0.jpg</td>\n",
       "      <td>cat</td>\n",
       "    </tr>\n",
       "    <tr>\n",
       "      <th>1</th>\n",
       "      <td>cat.1.jpg</td>\n",
       "      <td>cat</td>\n",
       "    </tr>\n",
       "    <tr>\n",
       "      <th>2</th>\n",
       "      <td>cat.10.jpg</td>\n",
       "      <td>cat</td>\n",
       "    </tr>\n",
       "    <tr>\n",
       "      <th>3</th>\n",
       "      <td>cat.100.jpg</td>\n",
       "      <td>cat</td>\n",
       "    </tr>\n",
       "    <tr>\n",
       "      <th>4</th>\n",
       "      <td>cat.1000.jpg</td>\n",
       "      <td>cat</td>\n",
       "    </tr>\n",
       "  </tbody>\n",
       "</table>\n",
       "</div>"
      ],
      "text/plain": [
       "       filename label\n",
       "0     cat.0.jpg   cat\n",
       "1     cat.1.jpg   cat\n",
       "2    cat.10.jpg   cat\n",
       "3   cat.100.jpg   cat\n",
       "4  cat.1000.jpg   cat"
      ]
     },
     "execution_count": 158,
     "metadata": {},
     "output_type": "execute_result"
    }
   ],
   "source": [
    "df.head()"
   ]
  },
  {
   "cell_type": "code",
   "execution_count": 159,
   "metadata": {},
   "outputs": [
    {
     "data": {
      "text/html": [
       "<div>\n",
       "<style scoped>\n",
       "    .dataframe tbody tr th:only-of-type {\n",
       "        vertical-align: middle;\n",
       "    }\n",
       "\n",
       "    .dataframe tbody tr th {\n",
       "        vertical-align: top;\n",
       "    }\n",
       "\n",
       "    .dataframe thead th {\n",
       "        text-align: right;\n",
       "    }\n",
       "</style>\n",
       "<table border=\"1\" class=\"dataframe\">\n",
       "  <thead>\n",
       "    <tr style=\"text-align: right;\">\n",
       "      <th></th>\n",
       "      <th>filename</th>\n",
       "      <th>label</th>\n",
       "    </tr>\n",
       "  </thead>\n",
       "  <tbody>\n",
       "    <tr>\n",
       "      <th>count</th>\n",
       "      <td>25000</td>\n",
       "      <td>25000</td>\n",
       "    </tr>\n",
       "    <tr>\n",
       "      <th>unique</th>\n",
       "      <td>25000</td>\n",
       "      <td>2</td>\n",
       "    </tr>\n",
       "    <tr>\n",
       "      <th>top</th>\n",
       "      <td>cat.0.jpg</td>\n",
       "      <td>cat</td>\n",
       "    </tr>\n",
       "    <tr>\n",
       "      <th>freq</th>\n",
       "      <td>1</td>\n",
       "      <td>12500</td>\n",
       "    </tr>\n",
       "  </tbody>\n",
       "</table>\n",
       "</div>"
      ],
      "text/plain": [
       "         filename  label\n",
       "count       25000  25000\n",
       "unique      25000      2\n",
       "top     cat.0.jpg    cat\n",
       "freq            1  12500"
      ]
     },
     "execution_count": 159,
     "metadata": {},
     "output_type": "execute_result"
    }
   ],
   "source": [
    "df.describe()"
   ]
  },
  {
   "cell_type": "markdown",
   "metadata": {},
   "source": [
    "#### Checking balance"
   ]
  },
  {
   "cell_type": "code",
   "execution_count": 160,
   "metadata": {},
   "outputs": [
    {
     "name": "stderr",
     "output_type": "stream",
     "text": [
      "No artists with labels found to put in legend.  Note that artists whose label start with an underscore are ignored when legend() is called with no argument.\n"
     ]
    },
    {
     "data": {
      "text/plain": [
       "<function matplotlib.pyplot.show(close=None, block=None)>"
      ]
     },
     "execution_count": 160,
     "metadata": {},
     "output_type": "execute_result"
    },
    {
     "data": {
      "image/png": "[encoded data removed]",
      "text/plain": [
       "<Figure size 640x480 with 1 Axes>"
      ]
     },
     "metadata": {},
     "output_type": "display_data"
    }
   ],
   "source": [
    "fig, ax = plt.subplots()\n",
    "bar_labels = df['label'].value_counts().index\n",
    "counts = df['label'].value_counts().values\n",
    "bar_colors = ['tab:red', 'tab:blue']\n",
    "\n",
    "ax.bar(bar_labels, counts, color=bar_colors)\n",
    "ax.legend(title=\"Data balance check\")\n",
    "\n",
    "plt.show"
   ]
  },
  {
   "cell_type": "markdown",
   "metadata": {},
   "source": [
    "The data is balanced! Let's continue."
   ]
  },
  {
   "cell_type": "markdown",
   "metadata": {},
   "source": [
    "## Analizing dimensions, shapes, sizes,...\n",
    "\n",
    "- Take a smaller sample but big enough to contain useful information. sample = 5000"
   ]
  },
  {
   "cell_type": "code",
   "execution_count": 161,
   "metadata": {},
   "outputs": [],
   "source": [
    "import cv2\n",
    "from PIL import Image"
   ]
  },
  {
   "cell_type": "code",
   "execution_count": 162,
   "metadata": {},
   "outputs": [],
   "source": [
    "sample_size = 5000\n",
    "sample_images = df['filename'].sample(sample_size).to_list()\n"
   ]
  },
  {
   "cell_type": "code",
   "execution_count": 164,
   "metadata": {},
   "outputs": [],
   "source": [
    "width = []\n",
    "height = []\n",
    "channels = [] # channels\n",
    "\n",
    "for filename in sample_images:\n",
    "  image = cv2.imread(os.path.join(dataset_path, filename), 1)\n",
    "  width.append(image.shape[1])\n",
    "  height.append(image.shape[0])\n",
    "  channels.append(image.shape[2])\n",
    "\n",
    "\n"
   ]
  },
  {
   "cell_type": "code",
   "execution_count": 165,
   "metadata": {},
   "outputs": [
    {
     "data": {
      "text/html": [
       "<div>\n",
       "<style scoped>\n",
       "    .dataframe tbody tr th:only-of-type {\n",
       "        vertical-align: middle;\n",
       "    }\n",
       "\n",
       "    .dataframe tbody tr th {\n",
       "        vertical-align: top;\n",
       "    }\n",
       "\n",
       "    .dataframe thead th {\n",
       "        text-align: right;\n",
       "    }\n",
       "</style>\n",
       "<table border=\"1\" class=\"dataframe\">\n",
       "  <thead>\n",
       "    <tr style=\"text-align: right;\">\n",
       "      <th></th>\n",
       "      <th>width</th>\n",
       "      <th>height</th>\n",
       "      <th>channels</th>\n",
       "    </tr>\n",
       "  </thead>\n",
       "  <tbody>\n",
       "    <tr>\n",
       "      <th>0</th>\n",
       "      <td>412</td>\n",
       "      <td>500</td>\n",
       "      <td>3</td>\n",
       "    </tr>\n",
       "    <tr>\n",
       "      <th>1</th>\n",
       "      <td>499</td>\n",
       "      <td>375</td>\n",
       "      <td>3</td>\n",
       "    </tr>\n",
       "    <tr>\n",
       "      <th>2</th>\n",
       "      <td>499</td>\n",
       "      <td>340</td>\n",
       "      <td>3</td>\n",
       "    </tr>\n",
       "    <tr>\n",
       "      <th>3</th>\n",
       "      <td>324</td>\n",
       "      <td>242</td>\n",
       "      <td>3</td>\n",
       "    </tr>\n",
       "    <tr>\n",
       "      <th>4</th>\n",
       "      <td>319</td>\n",
       "      <td>215</td>\n",
       "      <td>3</td>\n",
       "    </tr>\n",
       "  </tbody>\n",
       "</table>\n",
       "</div>"
      ],
      "text/plain": [
       "   width  height  channels\n",
       "0    412     500         3\n",
       "1    499     375         3\n",
       "2    499     340         3\n",
       "3    324     242         3\n",
       "4    319     215         3"
      ]
     },
     "execution_count": 165,
     "metadata": {},
     "output_type": "execute_result"
    }
   ],
   "source": [
    "sample_dimensions = pd.DataFrame({\n",
    "  'width':width,\n",
    "  'height':height,  \n",
    "  'channels':channels\n",
    "})\n",
    "\n",
    "sample_dimensions.head()"
   ]
  },
  {
   "cell_type": "code",
   "execution_count": 166,
   "metadata": {},
   "outputs": [],
   "source": [
    "sample_dimensions['aspect ratio'] = sample_dimensions['width']/sample_dimensions['height']"
   ]
  },
  {
   "cell_type": "code",
   "execution_count": 167,
   "metadata": {},
   "outputs": [
    {
     "data": {
      "text/html": [
       "<div>\n",
       "<style scoped>\n",
       "    .dataframe tbody tr th:only-of-type {\n",
       "        vertical-align: middle;\n",
       "    }\n",
       "\n",
       "    .dataframe tbody tr th {\n",
       "        vertical-align: top;\n",
       "    }\n",
       "\n",
       "    .dataframe thead th {\n",
       "        text-align: right;\n",
       "    }\n",
       "</style>\n",
       "<table border=\"1\" class=\"dataframe\">\n",
       "  <thead>\n",
       "    <tr style=\"text-align: right;\">\n",
       "      <th></th>\n",
       "      <th>width</th>\n",
       "      <th>height</th>\n",
       "      <th>channels</th>\n",
       "      <th>aspect ratio</th>\n",
       "    </tr>\n",
       "  </thead>\n",
       "  <tbody>\n",
       "    <tr>\n",
       "      <th>0</th>\n",
       "      <td>412</td>\n",
       "      <td>500</td>\n",
       "      <td>3</td>\n",
       "      <td>0.824000</td>\n",
       "    </tr>\n",
       "    <tr>\n",
       "      <th>1</th>\n",
       "      <td>499</td>\n",
       "      <td>375</td>\n",
       "      <td>3</td>\n",
       "      <td>1.330667</td>\n",
       "    </tr>\n",
       "    <tr>\n",
       "      <th>2</th>\n",
       "      <td>499</td>\n",
       "      <td>340</td>\n",
       "      <td>3</td>\n",
       "      <td>1.467647</td>\n",
       "    </tr>\n",
       "    <tr>\n",
       "      <th>3</th>\n",
       "      <td>324</td>\n",
       "      <td>242</td>\n",
       "      <td>3</td>\n",
       "      <td>1.338843</td>\n",
       "    </tr>\n",
       "    <tr>\n",
       "      <th>4</th>\n",
       "      <td>319</td>\n",
       "      <td>215</td>\n",
       "      <td>3</td>\n",
       "      <td>1.483721</td>\n",
       "    </tr>\n",
       "  </tbody>\n",
       "</table>\n",
       "</div>"
      ],
      "text/plain": [
       "   width  height  channels  aspect ratio\n",
       "0    412     500         3      0.824000\n",
       "1    499     375         3      1.330667\n",
       "2    499     340         3      1.467647\n",
       "3    324     242         3      1.338843\n",
       "4    319     215         3      1.483721"
      ]
     },
     "execution_count": 167,
     "metadata": {},
     "output_type": "execute_result"
    }
   ],
   "source": [
    "sample_dimensions.head()"
   ]
  },
  {
   "cell_type": "code",
   "execution_count": 168,
   "metadata": {},
   "outputs": [
    {
     "data": {
      "text/html": [
       "<div>\n",
       "<style scoped>\n",
       "    .dataframe tbody tr th:only-of-type {\n",
       "        vertical-align: middle;\n",
       "    }\n",
       "\n",
       "    .dataframe tbody tr th {\n",
       "        vertical-align: top;\n",
       "    }\n",
       "\n",
       "    .dataframe thead th {\n",
       "        text-align: right;\n",
       "    }\n",
       "</style>\n",
       "<table border=\"1\" class=\"dataframe\">\n",
       "  <thead>\n",
       "    <tr style=\"text-align: right;\">\n",
       "      <th></th>\n",
       "      <th>width</th>\n",
       "      <th>height</th>\n",
       "      <th>channels</th>\n",
       "      <th>aspect ratio</th>\n",
       "    </tr>\n",
       "  </thead>\n",
       "  <tbody>\n",
       "    <tr>\n",
       "      <th>count</th>\n",
       "      <td>5000.000000</td>\n",
       "      <td>5000.00000</td>\n",
       "      <td>5000.0</td>\n",
       "      <td>5000.000000</td>\n",
       "    </tr>\n",
       "    <tr>\n",
       "      <th>mean</th>\n",
       "      <td>407.502000</td>\n",
       "      <td>363.84700</td>\n",
       "      <td>3.0</td>\n",
       "      <td>1.155639</td>\n",
       "    </tr>\n",
       "    <tr>\n",
       "      <th>std</th>\n",
       "      <td>107.323446</td>\n",
       "      <td>96.15383</td>\n",
       "      <td>0.0</td>\n",
       "      <td>0.286686</td>\n",
       "    </tr>\n",
       "    <tr>\n",
       "      <th>min</th>\n",
       "      <td>50.000000</td>\n",
       "      <td>38.00000</td>\n",
       "      <td>3.0</td>\n",
       "      <td>0.375940</td>\n",
       "    </tr>\n",
       "    <tr>\n",
       "      <th>25%</th>\n",
       "      <td>335.000000</td>\n",
       "      <td>312.00000</td>\n",
       "      <td>3.0</td>\n",
       "      <td>0.924922</td>\n",
       "    </tr>\n",
       "    <tr>\n",
       "      <th>50%</th>\n",
       "      <td>450.000000</td>\n",
       "      <td>374.00000</td>\n",
       "      <td>3.0</td>\n",
       "      <td>1.275994</td>\n",
       "    </tr>\n",
       "    <tr>\n",
       "      <th>75%</th>\n",
       "      <td>499.000000</td>\n",
       "      <td>427.00000</td>\n",
       "      <td>3.0</td>\n",
       "      <td>1.336898</td>\n",
       "    </tr>\n",
       "    <tr>\n",
       "      <th>max</th>\n",
       "      <td>500.000000</td>\n",
       "      <td>500.00000</td>\n",
       "      <td>3.0</td>\n",
       "      <td>2.994012</td>\n",
       "    </tr>\n",
       "  </tbody>\n",
       "</table>\n",
       "</div>"
      ],
      "text/plain": [
       "             width      height  channels  aspect ratio\n",
       "count  5000.000000  5000.00000    5000.0   5000.000000\n",
       "mean    407.502000   363.84700       3.0      1.155639\n",
       "std     107.323446    96.15383       0.0      0.286686\n",
       "min      50.000000    38.00000       3.0      0.375940\n",
       "25%     335.000000   312.00000       3.0      0.924922\n",
       "50%     450.000000   374.00000       3.0      1.275994\n",
       "75%     499.000000   427.00000       3.0      1.336898\n",
       "max     500.000000   500.00000       3.0      2.994012"
      ]
     },
     "execution_count": 168,
     "metadata": {},
     "output_type": "execute_result"
    }
   ],
   "source": [
    "sample_dimensions.describe()"
   ]
  },
  {
   "cell_type": "markdown",
   "metadata": {},
   "source": [
    "We calculate the percentile 95th, so we know what value the majority of the features have.\n",
    "\n",
    "It seems that most of the values are below 500 in width and height and hte aspect ratio is about 1.5, which means that the width is usually 1.5 times bigger than the height."
   ]
  },
  {
   "cell_type": "code",
   "execution_count": 169,
   "metadata": {},
   "outputs": [
    {
     "data": {
      "text/plain": [
       "(500.0, 500.0, 1.5063048088496591)"
      ]
     },
     "execution_count": 169,
     "metadata": {},
     "output_type": "execute_result"
    }
   ],
   "source": [
    "np.quantile(width, 0.95), np.quantile(height, 0.95), np.quantile(sample_dimensions['aspect ratio'], 0.95)"
   ]
  },
  {
   "cell_type": "markdown",
   "metadata": {},
   "source": [
    "- Trying with different methods to obtain the quantile. All produce the same value."
   ]
  },
  {
   "cell_type": "code",
   "execution_count": 170,
   "metadata": {},
   "outputs": [
    {
     "data": {
      "text/plain": [
       "(500.0, 500, 500, 500.0, 500.0, 500.0)"
      ]
     },
     "execution_count": 170,
     "metadata": {},
     "output_type": "execute_result"
    }
   ],
   "source": [
    "np.quantile(width, 0.95, method='hazen'), np.quantile(width, 0.95, method='closest_observation'), np.quantile(width, 0.95, method='higher'), np.quantile(width, 0.95, method='averaged_inverted_cdf'), np.quantile(width, 0.95, method='linear'), np.quantile(width, 0.95, method='median_unbiased')\n"
   ]
  },
  {
   "cell_type": "code",
   "execution_count": 171,
   "metadata": {},
   "outputs": [],
   "source": [
    "samplesandnames = sample_dimensions\n",
    "#print(sample_images[:10])\n",
    "samplesandnames['filename'] = sample_images"
   ]
  },
  {
   "cell_type": "markdown",
   "metadata": {},
   "source": [
    "## Removing Outliers"
   ]
  },
  {
   "cell_type": "markdown",
   "metadata": {},
   "source": [
    "The maximum goal is to preserve quality. From the quantiles, it has been deducted that most of the width and height values fall below 500 while the aspect ratio (AR) is 1.5 in the majority of cases. More data is lost when oversampling the images than when undersampling them, so only the smallest widths and heghts will be removed. Since most of the aspect ratio values fall below 1.5, all AR values between 0.7 and 2 will be removed as well.\n",
    "\n",
    "- Width > 150\n",
    "- Height > 100\n",
    "- 0.7 > Aspect Ratio > 2\n",
    "\n",
    "These values can be tuned to obtain different results.\n",
    "**The smaller the range, the lesser data.**\n"
   ]
  },
  {
   "cell_type": "code",
   "execution_count": 172,
   "metadata": {},
   "outputs": [],
   "source": [
    "processed_samples = samplesandnames[\n",
    "  (samplesandnames['width'] >= 150) &\n",
    "  (samplesandnames['height'] >= 100) &\n",
    "  (samplesandnames['aspect ratio'] >= 0.7) &\n",
    "  (samplesandnames['aspect ratio'] <= 2)\n",
    "]\n",
    "\n",
    "processed_samples = processed_samples.reset_index(drop=True)\n"
   ]
  },
  {
   "cell_type": "code",
   "execution_count": 173,
   "metadata": {},
   "outputs": [
    {
     "data": {
      "text/html": [
       "<div>\n",
       "<style scoped>\n",
       "    .dataframe tbody tr th:only-of-type {\n",
       "        vertical-align: middle;\n",
       "    }\n",
       "\n",
       "    .dataframe tbody tr th {\n",
       "        vertical-align: top;\n",
       "    }\n",
       "\n",
       "    .dataframe thead th {\n",
       "        text-align: right;\n",
       "    }\n",
       "</style>\n",
       "<table border=\"1\" class=\"dataframe\">\n",
       "  <thead>\n",
       "    <tr style=\"text-align: right;\">\n",
       "      <th></th>\n",
       "      <th>width</th>\n",
       "      <th>height</th>\n",
       "      <th>channels</th>\n",
       "      <th>aspect ratio</th>\n",
       "      <th>filename</th>\n",
       "    </tr>\n",
       "  </thead>\n",
       "  <tbody>\n",
       "    <tr>\n",
       "      <th>0</th>\n",
       "      <td>412</td>\n",
       "      <td>500</td>\n",
       "      <td>3</td>\n",
       "      <td>0.824000</td>\n",
       "      <td>cat.3027.jpg</td>\n",
       "    </tr>\n",
       "    <tr>\n",
       "      <th>1</th>\n",
       "      <td>499</td>\n",
       "      <td>375</td>\n",
       "      <td>3</td>\n",
       "      <td>1.330667</td>\n",
       "      <td>cat.10302.jpg</td>\n",
       "    </tr>\n",
       "    <tr>\n",
       "      <th>2</th>\n",
       "      <td>499</td>\n",
       "      <td>340</td>\n",
       "      <td>3</td>\n",
       "      <td>1.467647</td>\n",
       "      <td>dog.10900.jpg</td>\n",
       "    </tr>\n",
       "    <tr>\n",
       "      <th>3</th>\n",
       "      <td>324</td>\n",
       "      <td>242</td>\n",
       "      <td>3</td>\n",
       "      <td>1.338843</td>\n",
       "      <td>dog.11716.jpg</td>\n",
       "    </tr>\n",
       "    <tr>\n",
       "      <th>4</th>\n",
       "      <td>319</td>\n",
       "      <td>215</td>\n",
       "      <td>3</td>\n",
       "      <td>1.483721</td>\n",
       "      <td>cat.967.jpg</td>\n",
       "    </tr>\n",
       "  </tbody>\n",
       "</table>\n",
       "</div>"
      ],
      "text/plain": [
       "   width  height  channels  aspect ratio       filename\n",
       "0    412     500         3      0.824000   cat.3027.jpg\n",
       "1    499     375         3      1.330667  cat.10302.jpg\n",
       "2    499     340         3      1.467647  dog.10900.jpg\n",
       "3    324     242         3      1.338843  dog.11716.jpg\n",
       "4    319     215         3      1.483721    cat.967.jpg"
      ]
     },
     "execution_count": 173,
     "metadata": {},
     "output_type": "execute_result"
    }
   ],
   "source": [
    "processed_samples.head()"
   ]
  },
  {
   "cell_type": "markdown",
   "metadata": {},
   "source": [
    "Now that the **outliers** have been deleted, the amount of data reduced needs to be checked out. Looking at the outcome, most of the images are not considered outliers, although almost 10% of the sample data has been removed."
   ]
  },
  {
   "cell_type": "code",
   "execution_count": 174,
   "metadata": {},
   "outputs": [
    {
     "data": {
      "text/html": [
       "<div>\n",
       "<style scoped>\n",
       "    .dataframe tbody tr th:only-of-type {\n",
       "        vertical-align: middle;\n",
       "    }\n",
       "\n",
       "    .dataframe tbody tr th {\n",
       "        vertical-align: top;\n",
       "    }\n",
       "\n",
       "    .dataframe thead th {\n",
       "        text-align: right;\n",
       "    }\n",
       "</style>\n",
       "<table border=\"1\" class=\"dataframe\">\n",
       "  <thead>\n",
       "    <tr style=\"text-align: right;\">\n",
       "      <th></th>\n",
       "      <th>width</th>\n",
       "      <th>height</th>\n",
       "      <th>channels</th>\n",
       "      <th>aspect ratio</th>\n",
       "    </tr>\n",
       "  </thead>\n",
       "  <tbody>\n",
       "    <tr>\n",
       "      <th>count</th>\n",
       "      <td>4580.000000</td>\n",
       "      <td>4580.000000</td>\n",
       "      <td>4580.0</td>\n",
       "      <td>4580.000000</td>\n",
       "    </tr>\n",
       "    <tr>\n",
       "      <th>mean</th>\n",
       "      <td>422.016376</td>\n",
       "      <td>365.265721</td>\n",
       "      <td>3.0</td>\n",
       "      <td>1.184853</td>\n",
       "    </tr>\n",
       "    <tr>\n",
       "      <th>std</th>\n",
       "      <td>95.570114</td>\n",
       "      <td>87.720510</td>\n",
       "      <td>0.0</td>\n",
       "      <td>0.247496</td>\n",
       "    </tr>\n",
       "    <tr>\n",
       "      <th>min</th>\n",
       "      <td>150.000000</td>\n",
       "      <td>104.000000</td>\n",
       "      <td>3.0</td>\n",
       "      <td>0.700000</td>\n",
       "    </tr>\n",
       "    <tr>\n",
       "      <th>25%</th>\n",
       "      <td>357.000000</td>\n",
       "      <td>320.000000</td>\n",
       "      <td>3.0</td>\n",
       "      <td>0.987495</td>\n",
       "    </tr>\n",
       "    <tr>\n",
       "      <th>50%</th>\n",
       "      <td>479.000000</td>\n",
       "      <td>374.000000</td>\n",
       "      <td>3.0</td>\n",
       "      <td>1.324572</td>\n",
       "    </tr>\n",
       "    <tr>\n",
       "      <th>75%</th>\n",
       "      <td>499.000000</td>\n",
       "      <td>413.000000</td>\n",
       "      <td>3.0</td>\n",
       "      <td>1.336898</td>\n",
       "    </tr>\n",
       "    <tr>\n",
       "      <th>max</th>\n",
       "      <td>500.000000</td>\n",
       "      <td>500.000000</td>\n",
       "      <td>3.0</td>\n",
       "      <td>1.996000</td>\n",
       "    </tr>\n",
       "  </tbody>\n",
       "</table>\n",
       "</div>"
      ],
      "text/plain": [
       "             width       height  channels  aspect ratio\n",
       "count  4580.000000  4580.000000    4580.0   4580.000000\n",
       "mean    422.016376   365.265721       3.0      1.184853\n",
       "std      95.570114    87.720510       0.0      0.247496\n",
       "min     150.000000   104.000000       3.0      0.700000\n",
       "25%     357.000000   320.000000       3.0      0.987495\n",
       "50%     479.000000   374.000000       3.0      1.324572\n",
       "75%     499.000000   413.000000       3.0      1.336898\n",
       "max     500.000000   500.000000       3.0      1.996000"
      ]
     },
     "execution_count": 174,
     "metadata": {},
     "output_type": "execute_result"
    }
   ],
   "source": [
    "processed_samples.describe()"
   ]
  },
  {
   "cell_type": "markdown",
   "metadata": {},
   "source": [
    "## Global Preprocessing\n",
    "\n",
    "- The same sample preprocessing is now applied to all data."
   ]
  },
  {
   "cell_type": "code",
   "execution_count": 175,
   "metadata": {},
   "outputs": [],
   "source": [
    "import cv2\n",
    "from PIL import Image"
   ]
  },
  {
   "cell_type": "code",
   "execution_count": 176,
   "metadata": {},
   "outputs": [
    {
     "data": {
      "text/plain": [
       "(       filename label\n",
       " 0     cat.0.jpg   cat\n",
       " 1     cat.1.jpg   cat\n",
       " 2    cat.10.jpg   cat\n",
       " 3   cat.100.jpg   cat\n",
       " 4  cat.1000.jpg   cat,\n",
       " 25000)"
      ]
     },
     "execution_count": 176,
     "metadata": {},
     "output_type": "execute_result"
    }
   ],
   "source": [
    "df.head(), len(df.filename)"
   ]
  },
  {
   "cell_type": "markdown",
   "metadata": {},
   "source": [
    "- Before removing outliers, 10% of the data (len(df)*0.1) that will be used for testing the model is substracted from the dataset."
   ]
  },
  {
   "cell_type": "code",
   "execution_count": 177,
   "metadata": {},
   "outputs": [],
   "source": [
    "testing = df.sample(n=int(len(df)*0.1)).reset_index(drop=True)"
   ]
  },
  {
   "cell_type": "markdown",
   "metadata": {},
   "source": [
    "- Adding ALL images shapes to the lists. Later the "
   ]
  },
  {
   "cell_type": "code",
   "execution_count": 178,
   "metadata": {},
   "outputs": [],
   "source": [
    "width = []\n",
    "height = []\n",
    "\n",
    "for filename in df['filename']:\n",
    "  image = cv2.imread(os.path.join(dataset_path, filename))  \n",
    "  width.append(image.shape[1])\n",
    "  height.append(image.shape[0])\n",
    "\n",
    "    "
   ]
  },
  {
   "cell_type": "markdown",
   "metadata": {},
   "source": [
    "### Outliers Note\n",
    "\n",
    "- Width > 100\n",
    "- Height > 150\n",
    "- 0.7 > Aspect Ratio > 2"
   ]
  },
  {
   "cell_type": "code",
   "execution_count": 179,
   "metadata": {},
   "outputs": [],
   "source": [
    "full_data = pd.DataFrame({'filename': df['filename'], 'width': width, 'height': height, 'label': df['label']})"
   ]
  },
  {
   "cell_type": "code",
   "execution_count": 180,
   "metadata": {},
   "outputs": [
    {
     "data": {
      "text/plain": [
       "(             width        height\n",
       " count  25000.00000  25000.000000\n",
       " mean     404.09904    360.478080\n",
       " std      109.03793     97.019959\n",
       " min       42.00000     32.000000\n",
       " 25%      323.00000    301.000000\n",
       " 50%      447.00000    374.000000\n",
       " 75%      499.00000    421.000000\n",
       " max     1050.00000    768.000000,\n",
       "          filename  label\n",
       " count       25000  25000\n",
       " unique      25000      2\n",
       " top     cat.0.jpg    cat\n",
       " freq            1  12500)"
      ]
     },
     "execution_count": 180,
     "metadata": {},
     "output_type": "execute_result"
    }
   ],
   "source": [
    "full_data.describe(), df.describe()"
   ]
  },
  {
   "cell_type": "code",
   "execution_count": 181,
   "metadata": {},
   "outputs": [],
   "source": [
    "full_data['aspect ratio'] = full_data['width'] / full_data['height']"
   ]
  },
  {
   "cell_type": "markdown",
   "metadata": {},
   "source": [
    "- Creating a mask to identify the filenames in both full_data and validation"
   ]
  },
  {
   "cell_type": "code",
   "execution_count": 182,
   "metadata": {},
   "outputs": [
    {
     "data": {
      "text/plain": [
       "count     25000\n",
       "unique        2\n",
       "top       False\n",
       "freq      22500\n",
       "Name: filename, dtype: object"
      ]
     },
     "execution_count": 182,
     "metadata": {},
     "output_type": "execute_result"
    }
   ],
   "source": [
    "mask = full_data['filename'].isin(testing['filename'])\n",
    "mask.describe()"
   ]
  },
  {
   "cell_type": "markdown",
   "metadata": {},
   "source": [
    "- Removing duplicated values"
   ]
  },
  {
   "cell_type": "code",
   "execution_count": 183,
   "metadata": {},
   "outputs": [
    {
     "data": {
      "text/html": [
       "<div>\n",
       "<style scoped>\n",
       "    .dataframe tbody tr th:only-of-type {\n",
       "        vertical-align: middle;\n",
       "    }\n",
       "\n",
       "    .dataframe tbody tr th {\n",
       "        vertical-align: top;\n",
       "    }\n",
       "\n",
       "    .dataframe thead th {\n",
       "        text-align: right;\n",
       "    }\n",
       "</style>\n",
       "<table border=\"1\" class=\"dataframe\">\n",
       "  <thead>\n",
       "    <tr style=\"text-align: right;\">\n",
       "      <th></th>\n",
       "      <th>width</th>\n",
       "      <th>height</th>\n",
       "      <th>aspect ratio</th>\n",
       "    </tr>\n",
       "  </thead>\n",
       "  <tbody>\n",
       "    <tr>\n",
       "      <th>count</th>\n",
       "      <td>22500.000000</td>\n",
       "      <td>22500.000000</td>\n",
       "      <td>22500.000000</td>\n",
       "    </tr>\n",
       "    <tr>\n",
       "      <th>mean</th>\n",
       "      <td>404.154889</td>\n",
       "      <td>360.720222</td>\n",
       "      <td>1.156533</td>\n",
       "    </tr>\n",
       "    <tr>\n",
       "      <th>std</th>\n",
       "      <td>108.965233</td>\n",
       "      <td>96.990081</td>\n",
       "      <td>0.290620</td>\n",
       "    </tr>\n",
       "    <tr>\n",
       "      <th>min</th>\n",
       "      <td>42.000000</td>\n",
       "      <td>32.000000</td>\n",
       "      <td>0.306613</td>\n",
       "    </tr>\n",
       "    <tr>\n",
       "      <th>25%</th>\n",
       "      <td>323.000000</td>\n",
       "      <td>301.000000</td>\n",
       "      <td>0.929455</td>\n",
       "    </tr>\n",
       "    <tr>\n",
       "      <th>50%</th>\n",
       "      <td>447.000000</td>\n",
       "      <td>374.000000</td>\n",
       "      <td>1.268116</td>\n",
       "    </tr>\n",
       "    <tr>\n",
       "      <th>75%</th>\n",
       "      <td>499.000000</td>\n",
       "      <td>421.000000</td>\n",
       "      <td>1.336898</td>\n",
       "    </tr>\n",
       "    <tr>\n",
       "      <th>max</th>\n",
       "      <td>1050.000000</td>\n",
       "      <td>768.000000</td>\n",
       "      <td>3.815789</td>\n",
       "    </tr>\n",
       "  </tbody>\n",
       "</table>\n",
       "</div>"
      ],
      "text/plain": [
       "              width        height  aspect ratio\n",
       "count  22500.000000  22500.000000  22500.000000\n",
       "mean     404.154889    360.720222      1.156533\n",
       "std      108.965233     96.990081      0.290620\n",
       "min       42.000000     32.000000      0.306613\n",
       "25%      323.000000    301.000000      0.929455\n",
       "50%      447.000000    374.000000      1.268116\n",
       "75%      499.000000    421.000000      1.336898\n",
       "max     1050.000000    768.000000      3.815789"
      ]
     },
     "execution_count": 183,
     "metadata": {},
     "output_type": "execute_result"
    }
   ],
   "source": [
    "train_data = full_data[~mask]\n",
    "train_data.describe()"
   ]
  },
  {
   "cell_type": "code",
   "execution_count": 184,
   "metadata": {},
   "outputs": [],
   "source": [
    "train_data = train_data[\n",
    "  (train_data['width'] >= 100) &\n",
    "  (train_data['height'] >= 150) &\n",
    "  (train_data['aspect ratio'] >= 0.7) &\n",
    "  (train_data['aspect ratio'] <= 2)\n",
    "]"
   ]
  },
  {
   "cell_type": "markdown",
   "metadata": {},
   "source": [
    "- Checking if the data is still balanced after preprocessing. It is!"
   ]
  },
  {
   "cell_type": "code",
   "execution_count": 185,
   "metadata": {},
   "outputs": [
    {
     "data": {
      "text/plain": [
       "Text(0, 0.5, 'Count')"
      ]
     },
     "execution_count": 185,
     "metadata": {},
     "output_type": "execute_result"
    },
    {
     "data": {
      "image/png": "[encoded data removed]",
      "text/plain": [
       "<Figure size 640x480 with 1 Axes>"
      ]
     },
     "metadata": {},
     "output_type": "display_data"
    }
   ],
   "source": [
    "train_data['label'].value_counts().sort_index().plot(kind='bar', color=['blue', 'red'])\n",
    "\n",
    "plt.title('Filtered dataset Balance')\n",
    "plt.xlabel('Label')\n",
    "plt.ylabel('Count')"
   ]
  },
  {
   "cell_type": "markdown",
   "metadata": {},
   "source": [
    "## Shuffle\n",
    "\n",
    "Before splitting into training and validation it is necessary to shuffle the data to avoid overfitting due to predetermined orders.\n"
   ]
  },
  {
   "cell_type": "code",
   "execution_count": 186,
   "metadata": {},
   "outputs": [
    {
     "data": {
      "text/html": [
       "<div>\n",
       "<style scoped>\n",
       "    .dataframe tbody tr th:only-of-type {\n",
       "        vertical-align: middle;\n",
       "    }\n",
       "\n",
       "    .dataframe tbody tr th {\n",
       "        vertical-align: top;\n",
       "    }\n",
       "\n",
       "    .dataframe thead th {\n",
       "        text-align: right;\n",
       "    }\n",
       "</style>\n",
       "<table border=\"1\" class=\"dataframe\">\n",
       "  <thead>\n",
       "    <tr style=\"text-align: right;\">\n",
       "      <th></th>\n",
       "      <th>width</th>\n",
       "      <th>height</th>\n",
       "      <th>aspect ratio</th>\n",
       "    </tr>\n",
       "  </thead>\n",
       "  <tbody>\n",
       "    <tr>\n",
       "      <th>count</th>\n",
       "      <td>20306.000000</td>\n",
       "      <td>20306.000000</td>\n",
       "      <td>20306.000000</td>\n",
       "    </tr>\n",
       "    <tr>\n",
       "      <th>mean</th>\n",
       "      <td>421.315276</td>\n",
       "      <td>363.581995</td>\n",
       "      <td>1.185331</td>\n",
       "    </tr>\n",
       "    <tr>\n",
       "      <th>std</th>\n",
       "      <td>95.962193</td>\n",
       "      <td>86.050366</td>\n",
       "      <td>0.247576</td>\n",
       "    </tr>\n",
       "    <tr>\n",
       "      <th>min</th>\n",
       "      <td>109.000000</td>\n",
       "      <td>150.000000</td>\n",
       "      <td>0.700000</td>\n",
       "    </tr>\n",
       "    <tr>\n",
       "      <th>25%</th>\n",
       "      <td>352.000000</td>\n",
       "      <td>315.000000</td>\n",
       "      <td>0.989467</td>\n",
       "    </tr>\n",
       "    <tr>\n",
       "      <th>50%</th>\n",
       "      <td>479.000000</td>\n",
       "      <td>374.000000</td>\n",
       "      <td>1.323607</td>\n",
       "    </tr>\n",
       "    <tr>\n",
       "      <th>75%</th>\n",
       "      <td>499.000000</td>\n",
       "      <td>405.000000</td>\n",
       "      <td>1.336898</td>\n",
       "    </tr>\n",
       "    <tr>\n",
       "      <th>max</th>\n",
       "      <td>1050.000000</td>\n",
       "      <td>768.000000</td>\n",
       "      <td>2.000000</td>\n",
       "    </tr>\n",
       "  </tbody>\n",
       "</table>\n",
       "</div>"
      ],
      "text/plain": [
       "              width        height  aspect ratio\n",
       "count  20306.000000  20306.000000  20306.000000\n",
       "mean     421.315276    363.581995      1.185331\n",
       "std       95.962193     86.050366      0.247576\n",
       "min      109.000000    150.000000      0.700000\n",
       "25%      352.000000    315.000000      0.989467\n",
       "50%      479.000000    374.000000      1.323607\n",
       "75%      499.000000    405.000000      1.336898\n",
       "max     1050.000000    768.000000      2.000000"
      ]
     },
     "execution_count": 186,
     "metadata": {},
     "output_type": "execute_result"
    }
   ],
   "source": [
    "# frac = 1 -> all data\n",
    "# drop=True --> removes old index and creates a new one for the new sorted dataframe\n",
    "# If no index is desired:\n",
    "#   1. full_data.sample(frac=1).reset_index(drop=True, inplace=True) -> with the original dataframe (full_data)\n",
    "#   2. shuffled_data.to_csv('shuffled_data.csv', index=False) -> with a new variable\n",
    "shuffled_data = train_data.sample(frac=1).reset_index(drop=True) \n",
    "shuffled_data.describe()"
   ]
  },
  {
   "cell_type": "markdown",
   "metadata": {},
   "source": [
    "## Validation - Training set split\n",
    "\n",
    "Since the features width, height and aspect ratio were created only for preprocessing purposes it is safe to remove them. Furthermore, it is a good practice to create a checkpoint of the data"
   ]
  },
  {
   "cell_type": "code",
   "execution_count": 187,
   "metadata": {},
   "outputs": [
    {
     "data": {
      "text/html": [
       "<div>\n",
       "<style scoped>\n",
       "    .dataframe tbody tr th:only-of-type {\n",
       "        vertical-align: middle;\n",
       "    }\n",
       "\n",
       "    .dataframe tbody tr th {\n",
       "        vertical-align: top;\n",
       "    }\n",
       "\n",
       "    .dataframe thead th {\n",
       "        text-align: right;\n",
       "    }\n",
       "</style>\n",
       "<table border=\"1\" class=\"dataframe\">\n",
       "  <thead>\n",
       "    <tr style=\"text-align: right;\">\n",
       "      <th></th>\n",
       "      <th>filename</th>\n",
       "      <th>width</th>\n",
       "      <th>height</th>\n",
       "      <th>label</th>\n",
       "      <th>aspect ratio</th>\n",
       "    </tr>\n",
       "  </thead>\n",
       "  <tbody>\n",
       "    <tr>\n",
       "      <th>0</th>\n",
       "      <td>dog.9417.jpg</td>\n",
       "      <td>500</td>\n",
       "      <td>363</td>\n",
       "      <td>dog</td>\n",
       "      <td>1.377410</td>\n",
       "    </tr>\n",
       "    <tr>\n",
       "      <th>1</th>\n",
       "      <td>cat.242.jpg</td>\n",
       "      <td>500</td>\n",
       "      <td>374</td>\n",
       "      <td>cat</td>\n",
       "      <td>1.336898</td>\n",
       "    </tr>\n",
       "    <tr>\n",
       "      <th>2</th>\n",
       "      <td>dog.4811.jpg</td>\n",
       "      <td>499</td>\n",
       "      <td>412</td>\n",
       "      <td>dog</td>\n",
       "      <td>1.211165</td>\n",
       "    </tr>\n",
       "    <tr>\n",
       "      <th>3</th>\n",
       "      <td>cat.8740.jpg</td>\n",
       "      <td>500</td>\n",
       "      <td>374</td>\n",
       "      <td>cat</td>\n",
       "      <td>1.336898</td>\n",
       "    </tr>\n",
       "    <tr>\n",
       "      <th>4</th>\n",
       "      <td>cat.11097.jpg</td>\n",
       "      <td>500</td>\n",
       "      <td>374</td>\n",
       "      <td>cat</td>\n",
       "      <td>1.336898</td>\n",
       "    </tr>\n",
       "  </tbody>\n",
       "</table>\n",
       "</div>"
      ],
      "text/plain": [
       "        filename  width  height label  aspect ratio\n",
       "0   dog.9417.jpg    500     363   dog      1.377410\n",
       "1    cat.242.jpg    500     374   cat      1.336898\n",
       "2   dog.4811.jpg    499     412   dog      1.211165\n",
       "3   cat.8740.jpg    500     374   cat      1.336898\n",
       "4  cat.11097.jpg    500     374   cat      1.336898"
      ]
     },
     "execution_count": 187,
     "metadata": {},
     "output_type": "execute_result"
    }
   ],
   "source": [
    "# Checkpoint\n",
    "\n",
    "'''\n",
    "Internally, in python, copy() method uses a pointer to the original data, which\n",
    "means that changes to the new object will affect the old. To overcome this, set deep=True.\n",
    "For non-pandas objects, use copy.deepcopy(<object>)\n",
    "'''\n",
    "\n",
    "data = shuffled_data.copy(deep=True)\n",
    "data.head()"
   ]
  },
  {
   "cell_type": "code",
   "execution_count": 188,
   "metadata": {},
   "outputs": [
    {
     "data": {
      "text/html": [
       "<div>\n",
       "<style scoped>\n",
       "    .dataframe tbody tr th:only-of-type {\n",
       "        vertical-align: middle;\n",
       "    }\n",
       "\n",
       "    .dataframe tbody tr th {\n",
       "        vertical-align: top;\n",
       "    }\n",
       "\n",
       "    .dataframe thead th {\n",
       "        text-align: right;\n",
       "    }\n",
       "</style>\n",
       "<table border=\"1\" class=\"dataframe\">\n",
       "  <thead>\n",
       "    <tr style=\"text-align: right;\">\n",
       "      <th></th>\n",
       "      <th>filename</th>\n",
       "      <th>label</th>\n",
       "    </tr>\n",
       "  </thead>\n",
       "  <tbody>\n",
       "    <tr>\n",
       "      <th>0</th>\n",
       "      <td>dog.9417.jpg</td>\n",
       "      <td>dog</td>\n",
       "    </tr>\n",
       "    <tr>\n",
       "      <th>1</th>\n",
       "      <td>cat.242.jpg</td>\n",
       "      <td>cat</td>\n",
       "    </tr>\n",
       "    <tr>\n",
       "      <th>2</th>\n",
       "      <td>dog.4811.jpg</td>\n",
       "      <td>dog</td>\n",
       "    </tr>\n",
       "    <tr>\n",
       "      <th>3</th>\n",
       "      <td>cat.8740.jpg</td>\n",
       "      <td>cat</td>\n",
       "    </tr>\n",
       "    <tr>\n",
       "      <th>4</th>\n",
       "      <td>cat.11097.jpg</td>\n",
       "      <td>cat</td>\n",
       "    </tr>\n",
       "  </tbody>\n",
       "</table>\n",
       "</div>"
      ],
      "text/plain": [
       "        filename label\n",
       "0   dog.9417.jpg   dog\n",
       "1    cat.242.jpg   cat\n",
       "2   dog.4811.jpg   dog\n",
       "3   cat.8740.jpg   cat\n",
       "4  cat.11097.jpg   cat"
      ]
     },
     "execution_count": 188,
     "metadata": {},
     "output_type": "execute_result"
    }
   ],
   "source": [
    "# Drop unwwanted features\n",
    "\n",
    "data = data.drop(['width', 'height', 'aspect ratio'], axis=1)\n",
    "data.head()"
   ]
  },
  {
   "cell_type": "markdown",
   "metadata": {},
   "source": [
    "- Set integers for labels instead of strings using a simple lambda function"
   ]
  },
  {
   "cell_type": "code",
   "execution_count": 189,
   "metadata": {},
   "outputs": [
    {
     "data": {
      "text/html": [
       "<div>\n",
       "<style scoped>\n",
       "    .dataframe tbody tr th:only-of-type {\n",
       "        vertical-align: middle;\n",
       "    }\n",
       "\n",
       "    .dataframe tbody tr th {\n",
       "        vertical-align: top;\n",
       "    }\n",
       "\n",
       "    .dataframe thead th {\n",
       "        text-align: right;\n",
       "    }\n",
       "</style>\n",
       "<table border=\"1\" class=\"dataframe\">\n",
       "  <thead>\n",
       "    <tr style=\"text-align: right;\">\n",
       "      <th></th>\n",
       "      <th>filename</th>\n",
       "      <th>label</th>\n",
       "    </tr>\n",
       "  </thead>\n",
       "  <tbody>\n",
       "    <tr>\n",
       "      <th>0</th>\n",
       "      <td>cat.9164.jpg</td>\n",
       "      <td>cat</td>\n",
       "    </tr>\n",
       "    <tr>\n",
       "      <th>1</th>\n",
       "      <td>cat.8804.jpg</td>\n",
       "      <td>cat</td>\n",
       "    </tr>\n",
       "    <tr>\n",
       "      <th>2</th>\n",
       "      <td>cat.7257.jpg</td>\n",
       "      <td>cat</td>\n",
       "    </tr>\n",
       "    <tr>\n",
       "      <th>3</th>\n",
       "      <td>dog.1903.jpg</td>\n",
       "      <td>dog</td>\n",
       "    </tr>\n",
       "    <tr>\n",
       "      <th>4</th>\n",
       "      <td>cat.2065.jpg</td>\n",
       "      <td>cat</td>\n",
       "    </tr>\n",
       "  </tbody>\n",
       "</table>\n",
       "</div>"
      ],
      "text/plain": [
       "       filename label\n",
       "0  cat.9164.jpg   cat\n",
       "1  cat.8804.jpg   cat\n",
       "2  cat.7257.jpg   cat\n",
       "3  dog.1903.jpg   dog\n",
       "4  cat.2065.jpg   cat"
      ]
     },
     "execution_count": 189,
     "metadata": {},
     "output_type": "execute_result"
    }
   ],
   "source": [
    "testing.head()"
   ]
  },
  {
   "cell_type": "code",
   "execution_count": 190,
   "metadata": {},
   "outputs": [
    {
     "data": {
      "text/plain": [
       "(        filename  label\n",
       " 0   dog.9417.jpg      1\n",
       " 1    cat.242.jpg      0\n",
       " 2   dog.4811.jpg      1\n",
       " 3   cat.8740.jpg      0\n",
       " 4  cat.11097.jpg      0,\n",
       "        filename  label\n",
       " 0  cat.9164.jpg      0\n",
       " 1  cat.8804.jpg      0\n",
       " 2  cat.7257.jpg      0\n",
       " 3  dog.1903.jpg      1\n",
       " 4  cat.2065.jpg      0)"
      ]
     },
     "execution_count": 190,
     "metadata": {},
     "output_type": "execute_result"
    }
   ],
   "source": [
    "data[\"label\"] = data[\"label\"].apply(lambda x: 1 if x == 'dog' else 0)\n",
    "testing[\"label\"] = testing[\"label\"].apply(lambda x: 1 if x == 'dog' else 0)\n",
    "data.head(), testing.head()"
   ]
  },
  {
   "cell_type": "code",
   "execution_count": 191,
   "metadata": {},
   "outputs": [
    {
     "data": {
      "text/plain": [
       "20306"
      ]
     },
     "execution_count": 191,
     "metadata": {},
     "output_type": "execute_result"
    }
   ],
   "source": [
    "data_length = len(data.index)\n",
    "data_length"
   ]
  },
  {
   "cell_type": "markdown",
   "metadata": {},
   "source": [
    "After preprocessing, there are still more than 20000 images. A ratio of 80% (training) 20% (validation) for this amoount of data seems correct"
   ]
  },
  {
   "cell_type": "code",
   "execution_count": 192,
   "metadata": {},
   "outputs": [
    {
     "name": "stdout",
     "output_type": "stream",
     "text": [
      "Rounded 16245\n",
      "int 16244\n",
      "float 16244.800000000001\n",
      "Error round: 0.1999999999989086\n",
      "Error int: 0.8000000000010914\n"
     ]
    }
   ],
   "source": [
    "train_len_round = round(len(data.index)*0.8)\n",
    "train_len_int = int(len(data.index)*0.8)\n",
    "train_len_float = len(data.index)*0.8\n",
    "\n",
    "print(f'Rounded {train_len_round}')\n",
    "print(f'int {train_len_int}')\n",
    "print(f'float {train_len_float}')\n",
    "\n",
    "print(f'Error round: {abs(train_len_float-train_len_round)}')\n",
    "print(f'Error int: {abs(train_len_float-train_len_int)}')\n",
    "\n",
    "# More precision using round"
   ]
  },
  {
   "cell_type": "code",
   "execution_count": 193,
   "metadata": {},
   "outputs": [
    {
     "data": {
      "text/plain": [
       "((16245, 2), (4061, 2))"
      ]
     },
     "execution_count": 193,
     "metadata": {},
     "output_type": "execute_result"
    }
   ],
   "source": [
    "train_df = data.iloc[:train_len_round,:]\n",
    "val_df = data.iloc[train_len_round:, :]\n",
    "\n",
    "train_df.shape, val_df.shape"
   ]
  },
  {
   "cell_type": "code",
   "execution_count": 194,
   "metadata": {},
   "outputs": [
    {
     "data": {
      "text/plain": [
       "(0.8000098493056239, 0.19999015069437603)"
      ]
     },
     "execution_count": 194,
     "metadata": {},
     "output_type": "execute_result"
    }
   ],
   "source": [
    "train_df.shape[0]/data_length, val_df.shape[0]/data_length"
   ]
  },
  {
   "cell_type": "code",
   "execution_count": 195,
   "metadata": {},
   "outputs": [
    {
     "name": "stdout",
     "output_type": "stream",
     "text": [
      "Absolut errors: [9.849305623865767e-06, 9.84930562397679e-06]\n"
     ]
    }
   ],
   "source": [
    "abs_err_train = abs(0.8-train_df.shape[0]/data_length)\n",
    "abs_err_val = abs(0.2-val_df.shape[0]/data_length)\n",
    "\n",
    "errors = [abs_err_train, abs_err_val]\n",
    "\n",
    "print(f'Absolut errors: {errors}')"
   ]
  },
  {
   "cell_type": "markdown",
   "metadata": {},
   "source": [
    "Splitting completed with a small error (Ea ~ 9.849e-6)"
   ]
  },
  {
   "cell_type": "markdown",
   "metadata": {},
   "source": [
    "## Model with Pytorch\n",
    "\n",
    "The dataset will be fed to a convolutional neural network model. This model is defined below and its main file can be found in `/modules/cnn.py`. For the moment, it has 2 convolutional layers, 2 pooling layers and 3 fully connected layers. The input depends on the size of the kernels and the image resizing.\n",
    "To calculate the input-size in the neural networks, refer to https://github.com/BakiRhina/Cats-and-Dogs#important-note-on-fc1-shape.\n"
   ]
  },
  {
   "cell_type": "code",
   "execution_count": 196,
   "metadata": {},
   "outputs": [],
   "source": [
    "import torch\n",
    "import torch.nn as nn\n",
    "import torch.nn.functional as F\n",
    "\n",
    "class CNN(nn.Module):\n",
    "  def __init__(self):\n",
    "    super().__init__()\n",
    "    self.conv1 = nn.Conv2d(3,6,5) # (N_in_channels, N_out_channels, kernel_size)\n",
    "    self.conv2 = nn.Conv2d(6,16,5)\n",
    "    self.pool = nn.MaxPool2d(2,2)\n",
    "    self.fc1 = nn.Linear(16*93*61, 256)\n",
    "    self.fc2 = nn.Linear(256, 120)\n",
    "    self.fc3 = nn.Linear(120, 2)\n",
    "\n",
    "  def forward(self, x):\n",
    "    x = self.pool(F.relu(self.conv1(x)))\n",
    "    x = self.pool(F.relu(self.conv2(x)))\n",
    "    x = torch.flatten(x, 1) \n",
    "    x = F.relu(self.fc1(x))\n",
    "    x = F.relu(self.fc2(x))\n",
    "    x = self.fc3(x)\n",
    "    return x\n",
    "  \n"
   ]
  },
  {
   "cell_type": "markdown",
   "metadata": {},
   "source": [
    "Neural networks, specially if fed with big datasets containing images, consume lots of resources. That is why using cudas gpu is a good option if available, to reduce time consumption."
   ]
  },
  {
   "cell_type": "code",
   "execution_count": 197,
   "metadata": {},
   "outputs": [
    {
     "name": "stdout",
     "output_type": "stream",
     "text": [
      "Training on device: cuda:0\n"
     ]
    }
   ],
   "source": [
    "# Select GPU if available (cuda toolkit <= 11.8 for pytorch)\n",
    "device = torch.device('cuda:0' if torch.cuda.is_available() else 'cpu')\n",
    "print(f\"Training on device: {device}\")\n",
    "\n",
    "# Enables benchmark mode in cudnn to find the best algorithm to use for your hardware.\n",
    "#more info --> https://pytorch.org/docs/stable/backends.html#torch.backends.mps.is_built\n",
    "torch.backends.cudnn.benchmark = True"
   ]
  },
  {
   "cell_type": "markdown",
   "metadata": {},
   "source": [
    "As before, looking at the 95% percentile, the aspect ratio is around 1.5. Therefore, some combinations to try out, without loosing much resolution and information would be: (384,256,3);(256,256,3);(128,128,3);..."
   ]
  },
  {
   "cell_type": "code",
   "execution_count": 198,
   "metadata": {},
   "outputs": [],
   "source": [
    "#Uncomment to try different sizes\n",
    "\n",
    "input_shape = (384,256)\n",
    "#input_shape = (256,256)\n",
    "#input_shape = (128,128)\n",
    "\n",
    "df_transform = transforms.Compose([\n",
    "  transforms.Resize(input_shape),\n",
    "  transforms.ToTensor()\n",
    "])"
   ]
  },
  {
   "cell_type": "code",
   "execution_count": 199,
   "metadata": {},
   "outputs": [
    {
     "data": {
      "text/html": [
       "<div>\n",
       "<style scoped>\n",
       "    .dataframe tbody tr th:only-of-type {\n",
       "        vertical-align: middle;\n",
       "    }\n",
       "\n",
       "    .dataframe tbody tr th {\n",
       "        vertical-align: top;\n",
       "    }\n",
       "\n",
       "    .dataframe thead th {\n",
       "        text-align: right;\n",
       "    }\n",
       "</style>\n",
       "<table border=\"1\" class=\"dataframe\">\n",
       "  <thead>\n",
       "    <tr style=\"text-align: right;\">\n",
       "      <th></th>\n",
       "      <th>label</th>\n",
       "    </tr>\n",
       "  </thead>\n",
       "  <tbody>\n",
       "    <tr>\n",
       "      <th>count</th>\n",
       "      <td>16245.000000</td>\n",
       "    </tr>\n",
       "    <tr>\n",
       "      <th>mean</th>\n",
       "      <td>0.496584</td>\n",
       "    </tr>\n",
       "    <tr>\n",
       "      <th>std</th>\n",
       "      <td>0.500004</td>\n",
       "    </tr>\n",
       "    <tr>\n",
       "      <th>min</th>\n",
       "      <td>0.000000</td>\n",
       "    </tr>\n",
       "    <tr>\n",
       "      <th>25%</th>\n",
       "      <td>0.000000</td>\n",
       "    </tr>\n",
       "    <tr>\n",
       "      <th>50%</th>\n",
       "      <td>0.000000</td>\n",
       "    </tr>\n",
       "    <tr>\n",
       "      <th>75%</th>\n",
       "      <td>1.000000</td>\n",
       "    </tr>\n",
       "    <tr>\n",
       "      <th>max</th>\n",
       "      <td>1.000000</td>\n",
       "    </tr>\n",
       "  </tbody>\n",
       "</table>\n",
       "</div>"
      ],
      "text/plain": [
       "              label\n",
       "count  16245.000000\n",
       "mean       0.496584\n",
       "std        0.500004\n",
       "min        0.000000\n",
       "25%        0.000000\n",
       "50%        0.000000\n",
       "75%        1.000000\n",
       "max        1.000000"
      ]
     },
     "execution_count": 199,
     "metadata": {},
     "output_type": "execute_result"
    }
   ],
   "source": [
    "train_df.describe()"
   ]
  },
  {
   "cell_type": "markdown",
   "metadata": {},
   "source": [
    "- Why the custom dataset? It is possible to use the class Dataset to create Dataset-like objects and then pass it to the DataLoader. This class is optimized to be less memory consuming (processes data in separate cores in real time and feed it immediately to the model)"
   ]
  },
  {
   "cell_type": "code",
   "execution_count": 200,
   "metadata": {},
   "outputs": [],
   "source": [
    "from torch.utils.data import Dataset\n",
    "\n",
    "class CustomDataset(Dataset):\n",
    "  def __init__(self, dataframe, root_dir , transform=None):\n",
    "    self.dataframe = dataframe\n",
    "    self.root_dir = root_dir\n",
    "    self.transform = transform\n",
    "  \n",
    "  #DataLoader will automatically use these methods (__len__() and __getitem__())\n",
    "  #To calculate the amount of iterations with the selected batch\n",
    "  def __len__(self):\n",
    "    return len(self.dataframe)\n",
    "\n",
    "  #To select the samples of data form the dataframe\n",
    "  def __getitem__(self, idx):\n",
    "    img_filepath = os.path.join(self.root_dir, self.dataframe.iloc[idx, 0])\n",
    "    image = Image.open(img_filepath).convert(\"RGB\")\n",
    "    label = self.dataframe.iloc[idx, 1]\n",
    "\n",
    "    if self.transform:\n",
    "      image = self.transform(image)\n",
    "\n",
    "    return image, label\n",
    "  "
   ]
  },
  {
   "cell_type": "markdown",
   "metadata": {},
   "source": [
    "- Instance of training and validating sets"
   ]
  },
  {
   "cell_type": "code",
   "execution_count": 209,
   "metadata": {},
   "outputs": [],
   "source": [
    "train_set = CustomDataset(train_df, dataset_path, transform=df_transform)\n",
    "val_set = CustomDataset(val_df, dataset_path, transform=df_transform)\n",
    "testing_set = CustomDataset(testing, dataset_path, transform=df_transform)"
   ]
  },
  {
   "cell_type": "markdown",
   "metadata": {},
   "source": [
    "- Torch loader with batch size of 16/32, and shuffled again."
   ]
  },
  {
   "cell_type": "code",
   "execution_count": 203,
   "metadata": {},
   "outputs": [],
   "source": [
    "batch_size = 32\n",
    "lr = 0.0001\n",
    "momentum = 0.9\n",
    "epochs = 2"
   ]
  },
  {
   "cell_type": "code",
   "execution_count": 239,
   "metadata": {},
   "outputs": [],
   "source": [
    "train_loader = DataLoader(train_set, batch_size=batch_size, shuffle=True)\n",
    "val_loader = DataLoader(val_set, batch_size=batch_size, shuffle=True)\n",
    "testing_loader = DataLoader(testing_set, batch_size=1, shuffle=True)"
   ]
  },
  {
   "cell_type": "markdown",
   "metadata": {},
   "source": [
    "### Training loop"
   ]
  },
  {
   "cell_type": "code",
   "execution_count": 205,
   "metadata": {},
   "outputs": [
    {
     "name": "stdout",
     "output_type": "stream",
     "text": [
      "Epoch 0\n",
      "[1,    50] loss: 0.01391\n",
      "[1,   100] loss: 0.01378\n",
      "[1,   150] loss: 0.01396\n",
      "[1,   200] loss: 0.01382\n",
      "[1,   250] loss: 0.01388\n",
      "[1,   300] loss: 0.01387\n",
      "[1,   350] loss: 0.01383\n",
      "[1,   400] loss: 0.01384\n",
      "[1,   450] loss: 0.01387\n",
      "[1,   500] loss: 0.01385\n",
      "Epoch 1\n",
      "[2,    50] loss: 0.01384\n",
      "[2,   100] loss: 0.01384\n",
      "[2,   150] loss: 0.01384\n",
      "[2,   200] loss: 0.01379\n",
      "[2,   250] loss: 0.01383\n",
      "[2,   300] loss: 0.01376\n",
      "[2,   350] loss: 0.01379\n",
      "[2,   400] loss: 0.01385\n",
      "[2,   450] loss: 0.01385\n",
      "[2,   500] loss: 0.01386\n",
      "Training finished!\n"
     ]
    }
   ],
   "source": [
    "cnn = CNN().to(device)\n",
    "criterion = nn.CrossEntropyLoss()\n",
    "optimizer = opt.SGD(cnn.parameters(), lr, momentum)\n",
    "loss_values = []\n",
    "\n",
    "for epoch in range(0, epochs):\n",
    "  print(f'Epoch {epoch}')\n",
    "  running_loss = 0.0\n",
    "  for i, data in enumerate(train_loader, 0):\n",
    "    imgs, label = data\n",
    "    imgs, label = imgs.to(device), label.to(device)\n",
    "\n",
    "    # zero the parameter gradients\n",
    "    optimizer.zero_grad()\n",
    "\n",
    "    # Forward pass + Backward pass + Gradient optimization\n",
    "    output = cnn(imgs)\n",
    "    loss = criterion(output, label)\n",
    "    loss.backward()\n",
    "    optimizer.step()\n",
    "\n",
    "    # print statistics\n",
    "    if i % 50 == 49:\n",
    "      running_loss += loss.item()\n",
    "      print(f'[{epoch + 1}, {i + 1:5d}] loss: {running_loss / 50:.5f}')\n",
    "      loss_values.append(running_loss)\n",
    "      running_loss = 0.0\n",
    "\n",
    "print(\"Training finished!\")"
   ]
  },
  {
   "cell_type": "code",
   "execution_count": 206,
   "metadata": {},
   "outputs": [],
   "source": [
    "model_filename = 'model11.pth'\n",
    "model_path = f'models/{model_filename}'\n",
    "\n",
    "torch.save(cnn.state_dict(), model_path)"
   ]
  },
  {
   "cell_type": "markdown",
   "metadata": {},
   "source": [
    "#### FC1 input calculation\n",
    "\n",
    "When changing the structure of the CNN or the batch size, run this to know the dimensions of the input layer."
   ]
  },
  {
   "cell_type": "code",
   "execution_count": null,
   "metadata": {},
   "outputs": [],
   "source": [
    "images, labels = next(iter(train_loader))"
   ]
  },
  {
   "cell_type": "code",
   "execution_count": null,
   "metadata": {},
   "outputs": [
    {
     "name": "stdout",
     "output_type": "stream",
     "text": [
      "torch.Size([32, 3, 384, 256])\n",
      "torch.Size([32, 6, 380, 252])\n",
      "torch.Size([32, 6, 190, 126])\n",
      "torch.Size([32, 16, 186, 122])\n",
      "torch.Size([32, 16, 93, 61])\n",
      "torch.Size([32, 90768])\n"
     ]
    }
   ],
   "source": [
    "conv1 = nn.Conv2d(3,6,5)\n",
    "pool = nn.MaxPool2d(2,2)\n",
    "conv2 = nn.Conv2d(6,16,5)\n",
    "\n",
    "print(images.shape)\n",
    "\n",
    "x = conv1(images)\n",
    "print(x.shape)\n",
    "x = pool(x)\n",
    "print(x.shape)\n",
    "x = conv2(x)\n",
    "print(x.shape)\n",
    "x = pool(x)\n",
    "print(x.shape)\n",
    "x = torch.flatten(x, 1)\n",
    "print(x.shape)"
   ]
  },
  {
   "cell_type": "code",
   "execution_count": null,
   "metadata": {},
   "outputs": [],
   "source": []
  },
  {
   "cell_type": "markdown",
   "metadata": {},
   "source": [
    "## Validation\n",
    "\n"
   ]
  },
  {
   "cell_type": "code",
   "execution_count": 207,
   "metadata": {},
   "outputs": [
    {
     "data": {
      "text/plain": [
       "<bound method Module.eval of CNN(\n",
       "  (conv1): Conv2d(3, 6, kernel_size=(5, 5), stride=(1, 1))\n",
       "  (conv2): Conv2d(6, 16, kernel_size=(5, 5), stride=(1, 1))\n",
       "  (pool): MaxPool2d(kernel_size=2, stride=2, padding=0, dilation=1, ceil_mode=False)\n",
       "  (fc1): Linear(in_features=90768, out_features=256, bias=True)\n",
       "  (fc2): Linear(in_features=256, out_features=120, bias=True)\n",
       "  (fc3): Linear(in_features=120, out_features=2, bias=True)\n",
       ")>"
      ]
     },
     "execution_count": 207,
     "metadata": {},
     "output_type": "execute_result"
    }
   ],
   "source": [
    "cnn = CNN()\n",
    "cnn.load_state_dict(torch.load(model_path))\n",
    "cnn.eval()\n",
    "cnn.to(device)\n",
    "cnn.eval"
   ]
  },
  {
   "cell_type": "code",
   "execution_count": 232,
   "metadata": {},
   "outputs": [
    {
     "name": "stdout",
     "output_type": "stream",
     "text": [
      "tensor([0, 0, 1, 1, 1, 0, 0, 1, 1, 1, 1, 1, 0, 0, 0, 0, 1, 1, 0, 0, 1, 0, 1, 1,\n",
      "        0, 1, 1, 0, 1, 0, 0, 0], device='cuda:0')\n",
      "tensor([[-0.0544, -0.0456],\n",
      "        [-0.0349, -0.0679],\n",
      "        [-0.0531, -0.0462],\n",
      "        [-0.0565, -0.0400],\n",
      "        [-0.0556, -0.0406],\n",
      "        [-0.0421, -0.0621],\n",
      "        [-0.0448, -0.0601],\n",
      "        [-0.0478, -0.0581],\n",
      "        [-0.0428, -0.0600],\n",
      "        [-0.0603, -0.0369],\n",
      "        [-0.0413, -0.0582],\n",
      "        [-0.0388, -0.0671],\n",
      "        [-0.0497, -0.0502],\n",
      "        [-0.0423, -0.0585],\n",
      "        [-0.0438, -0.0632],\n",
      "        [-0.0537, -0.0519],\n",
      "        [-0.0354, -0.0674],\n",
      "        [-0.0480, -0.0533],\n",
      "        [-0.0447, -0.0622],\n",
      "        [-0.0442, -0.0589],\n",
      "        [-0.0685, -0.0268],\n",
      "        [-0.0333, -0.0723],\n",
      "        [-0.0364, -0.0646],\n",
      "        [-0.0407, -0.0618],\n",
      "        [-0.0548, -0.0479],\n",
      "        [-0.0615, -0.0400],\n",
      "        [-0.0336, -0.0699],\n",
      "        [-0.0379, -0.0672],\n",
      "        [-0.0486, -0.0537],\n",
      "        [-0.0461, -0.0551],\n",
      "        [-0.0554, -0.0468],\n",
      "        [-0.0344, -0.0675]], device='cuda:0')\n",
      "tensor([1, 0, 1, 0, 1, 1, 1, 0, 1, 1, 0, 0, 1, 1, 1, 1, 0, 1, 0, 0, 0, 0, 0, 0,\n",
      "        1, 1, 1, 1, 0, 0, 0, 1], device='cuda:0')\n",
      "tensor([[-0.0517, -0.0530],\n",
      "        [-0.0474, -0.0534],\n",
      "        [-0.0617, -0.0405],\n",
      "        [-0.0579, -0.0438],\n",
      "        [-0.0420, -0.0597],\n",
      "        [-0.0541, -0.0453],\n",
      "        [-0.0537, -0.0449],\n",
      "        [-0.0322, -0.0693],\n",
      "        [-0.0344, -0.0679],\n",
      "        [-0.0555, -0.0412],\n",
      "        [-0.0430, -0.0607],\n",
      "        [-0.0414, -0.0611],\n",
      "        [-0.0662, -0.0354],\n",
      "        [-0.0568, -0.0434],\n",
      "        [-0.0482, -0.0586],\n",
      "        [-0.0282, -0.0751],\n",
      "        [-0.0352, -0.0659],\n",
      "        [-0.0567, -0.0443],\n",
      "        [-0.0371, -0.0663],\n",
      "        [-0.0523, -0.0506],\n",
      "        [-0.0467, -0.0544],\n",
      "        [-0.0378, -0.0655],\n",
      "        [-0.0553, -0.0460],\n",
      "        [-0.0386, -0.0625],\n",
      "        [-0.0520, -0.0519],\n",
      "        [-0.0494, -0.0530],\n",
      "        [-0.0336, -0.0699],\n",
      "        [-0.0541, -0.0468],\n",
      "        [-0.0417, -0.0579],\n",
      "        [-0.0373, -0.0641],\n",
      "        [-0.0505, -0.0479],\n",
      "        [-0.0437, -0.0559]], device='cuda:0')\n",
      "tensor([1, 1, 1, 1, 1, 0, 1, 0, 0, 1, 1, 1, 1, 1, 0, 0, 0, 1, 1, 1, 1, 0, 0, 1,\n",
      "        1, 0, 0, 1, 0, 1, 1, 0], device='cuda:0')\n",
      "tensor([[-0.0554, -0.0437],\n",
      "        [-0.0561, -0.0435],\n",
      "        [-0.0338, -0.0722],\n",
      "        [-0.0589, -0.0397],\n",
      "        [-0.0514, -0.0412],\n",
      "        [-0.0494, -0.0518],\n",
      "        [-0.0473, -0.0546],\n",
      "        [-0.0535, -0.0473],\n",
      "        [-0.0539, -0.0483],\n",
      "        [-0.0456, -0.0570],\n",
      "        [-0.0295, -0.0756],\n",
      "        [-0.0539, -0.0475],\n",
      "        [-0.0392, -0.0603],\n",
      "        [-0.0495, -0.0505],\n",
      "        [-0.0455, -0.0566],\n",
      "        [-0.0406, -0.0617],\n",
      "        [-0.0422, -0.0636],\n",
      "        [-0.0375, -0.0637],\n",
      "        [-0.0309, -0.0735],\n",
      "        [-0.0641, -0.0357],\n",
      "        [-0.0420, -0.0579],\n",
      "        [-0.0590, -0.0453],\n",
      "        [-0.0472, -0.0544],\n",
      "        [-0.0494, -0.0536],\n",
      "        [-0.0443, -0.0546],\n",
      "        [-0.0400, -0.0608],\n",
      "        [-0.0483, -0.0549],\n",
      "        [-0.0311, -0.0703],\n",
      "        [-0.0406, -0.0594],\n",
      "        [-0.0318, -0.0700],\n",
      "        [-0.0478, -0.0569],\n",
      "        [-0.0473, -0.0545]], device='cuda:0')\n",
      "tensor([1, 0, 0, 0, 0, 1, 1, 1, 1, 0, 1, 1, 1, 1, 1, 0, 1, 1, 0, 0, 0, 1, 0, 0,\n",
      "        0, 0, 1, 0, 0, 0, 0, 0], device='cuda:0')\n",
      "tensor([[-0.0460, -0.0549],\n",
      "        [-0.0653, -0.0306],\n",
      "        [-0.0334, -0.0727],\n",
      "        [-0.0588, -0.0356],\n",
      "        [-0.0505, -0.0500],\n",
      "        [-0.0518, -0.0512],\n",
      "        [-0.0340, -0.0715],\n",
      "        [-0.0339, -0.0715],\n",
      "        [-0.0455, -0.0568],\n",
      "        [-0.0495, -0.0526],\n",
      "        [-0.0540, -0.0468],\n",
      "        [-0.0514, -0.0500],\n",
      "        [-0.0520, -0.0523],\n",
      "        [-0.0433, -0.0575],\n",
      "        [-0.0330, -0.0677],\n",
      "        [-0.0423, -0.0642],\n",
      "        [-0.0525, -0.0521],\n",
      "        [-0.0515, -0.0480],\n",
      "        [-0.0453, -0.0539],\n",
      "        [-0.0521, -0.0461],\n",
      "        [-0.0406, -0.0597],\n",
      "        [-0.0485, -0.0509],\n",
      "        [-0.0363, -0.0665],\n",
      "        [-0.0435, -0.0573],\n",
      "        [-0.0380, -0.0667],\n",
      "        [-0.0299, -0.0738],\n",
      "        [-0.0593, -0.0400],\n",
      "        [-0.0329, -0.0710],\n",
      "        [-0.0483, -0.0552],\n",
      "        [-0.0308, -0.0700],\n",
      "        [-0.0487, -0.0542],\n",
      "        [-0.0302, -0.0670]], device='cuda:0')\n",
      "tensor([1, 1, 1, 1, 1, 0, 1, 0, 0, 0, 1, 1, 1, 1, 1, 1, 1, 1, 0, 1, 1, 1, 1, 0,\n",
      "        1, 1, 0, 0, 0, 1, 0, 1], device='cuda:0')\n",
      "tensor([[-0.0516, -0.0461],\n",
      "        [-0.0468, -0.0565],\n",
      "        [-0.0467, -0.0549],\n",
      "        [-0.0639, -0.0354],\n",
      "        [-0.0578, -0.0410],\n",
      "        [-0.0413, -0.0589],\n",
      "        [-0.0404, -0.0624],\n",
      "        [-0.0527, -0.0445],\n",
      "        [-0.0421, -0.0587],\n",
      "        [-0.0455, -0.0524],\n",
      "        [-0.0382, -0.0652],\n",
      "        [-0.0528, -0.0464],\n",
      "        [-0.0550, -0.0443],\n",
      "        [-0.0513, -0.0478],\n",
      "        [-0.0476, -0.0519],\n",
      "        [-0.0317, -0.0769],\n",
      "        [-0.0628, -0.0366],\n",
      "        [-0.0450, -0.0569],\n",
      "        [-0.0424, -0.0631],\n",
      "        [-0.0490, -0.0514],\n",
      "        [-0.0510, -0.0486],\n",
      "        [-0.0552, -0.0450],\n",
      "        [-0.0458, -0.0533],\n",
      "        [-0.0505, -0.0501],\n",
      "        [-0.0499, -0.0512],\n",
      "        [-0.0553, -0.0437],\n",
      "        [-0.0456, -0.0582],\n",
      "        [-0.0423, -0.0617],\n",
      "        [-0.0408, -0.0631],\n",
      "        [-0.0529, -0.0460],\n",
      "        [-0.0473, -0.0585],\n",
      "        [-0.0535, -0.0450]], device='cuda:0')\n",
      "tensor([1, 0, 1, 1, 0, 0, 0, 0, 0, 1, 0, 0, 1, 0, 1, 0, 1, 1, 0, 1, 0, 1, 1, 1,\n",
      "        1, 1, 1, 0, 0, 1, 1, 0], device='cuda:0')\n",
      "tensor([[-0.0287, -0.0712],\n",
      "        [-0.0322, -0.0730],\n",
      "        [-0.0501, -0.0488],\n",
      "        [-0.0360, -0.0655],\n",
      "        [-0.0522, -0.0486],\n",
      "        [-0.0436, -0.0578],\n",
      "        [-0.0593, -0.0373],\n",
      "        [-0.0424, -0.0592],\n",
      "        [-0.0572, -0.0424],\n",
      "        [-0.0499, -0.0574],\n",
      "        [-0.0327, -0.0687],\n",
      "        [-0.0323, -0.0689],\n",
      "        [-0.0532, -0.0465],\n",
      "        [-0.0436, -0.0605],\n",
      "        [-0.0613, -0.0402],\n",
      "        [-0.0461, -0.0567],\n",
      "        [-0.0512, -0.0484],\n",
      "        [-0.0427, -0.0589],\n",
      "        [-0.0543, -0.0452],\n",
      "        [-0.0523, -0.0475],\n",
      "        [-0.0395, -0.0596],\n",
      "        [-0.0498, -0.0505],\n",
      "        [-0.0484, -0.0516],\n",
      "        [-0.0487, -0.0491],\n",
      "        [-0.0524, -0.0459],\n",
      "        [-0.0519, -0.0482],\n",
      "        [-0.0543, -0.0408],\n",
      "        [-0.0354, -0.0670],\n",
      "        [-0.0503, -0.0487],\n",
      "        [-0.0446, -0.0554],\n",
      "        [-0.0355, -0.0666],\n",
      "        [-0.0580, -0.0408]], device='cuda:0')\n",
      "tensor([1, 0, 1, 0, 1, 1, 1, 0, 1, 0, 0, 0, 0, 1, 0, 1, 0, 1, 1, 1, 0, 0, 0, 0,\n",
      "        1, 0, 0, 0, 1, 1, 1, 0], device='cuda:0')\n",
      "tensor([[-0.0395, -0.0663],\n",
      "        [-0.0433, -0.0612],\n",
      "        [-0.0618, -0.0377],\n",
      "        [-0.0530, -0.0497],\n",
      "        [-0.0551, -0.0425],\n",
      "        [-0.0411, -0.0587],\n",
      "        [-0.0458, -0.0520],\n",
      "        [-0.0428, -0.0603],\n",
      "        [-0.0606, -0.0387],\n",
      "        [-0.0415, -0.0609],\n",
      "        [-0.0473, -0.0520],\n",
      "        [-0.0415, -0.0582],\n",
      "        [-0.0605, -0.0378],\n",
      "        [-0.0479, -0.0558],\n",
      "        [-0.0305, -0.0688],\n",
      "        [-0.0601, -0.0368],\n",
      "        [-0.0502, -0.0536],\n",
      "        [-0.0576, -0.0482],\n",
      "        [-0.0517, -0.0428],\n",
      "        [-0.0475, -0.0518],\n",
      "        [-0.0442, -0.0537],\n",
      "        [-0.0498, -0.0524],\n",
      "        [-0.0550, -0.0459],\n",
      "        [-0.0485, -0.0557],\n",
      "        [-0.0660, -0.0306],\n",
      "        [-0.0657, -0.0326],\n",
      "        [-0.0518, -0.0482],\n",
      "        [-0.0391, -0.0648],\n",
      "        [-0.0467, -0.0530],\n",
      "        [-0.0604, -0.0401],\n",
      "        [-0.0597, -0.0399],\n",
      "        [-0.0500, -0.0524]], device='cuda:0')\n",
      "tensor([1, 1, 0, 0, 0, 1, 1, 1, 0, 1, 0, 1, 1, 1, 1, 0, 1, 1, 1, 0, 1, 1, 0, 0,\n",
      "        1, 0, 1, 1, 1, 0, 1, 1], device='cuda:0')\n",
      "tensor([[-0.0531, -0.0509],\n",
      "        [-0.0662, -0.0336],\n",
      "        [-0.0422, -0.0597],\n",
      "        [-0.0509, -0.0492],\n",
      "        [-0.0364, -0.0667],\n",
      "        [-0.0567, -0.0439],\n",
      "        [-0.0484, -0.0532],\n",
      "        [-0.0413, -0.0605],\n",
      "        [-0.0530, -0.0478],\n",
      "        [-0.0484, -0.0515],\n",
      "        [-0.0297, -0.0767],\n",
      "        [-0.0575, -0.0404],\n",
      "        [-0.0331, -0.0703],\n",
      "        [-0.0521, -0.0467],\n",
      "        [-0.0534, -0.0524],\n",
      "        [-0.0465, -0.0547],\n",
      "        [-0.0481, -0.0543],\n",
      "        [-0.0449, -0.0572],\n",
      "        [-0.0496, -0.0522],\n",
      "        [-0.0479, -0.0550],\n",
      "        [-0.0402, -0.0642],\n",
      "        [-0.0441, -0.0556],\n",
      "        [-0.0484, -0.0557],\n",
      "        [-0.0327, -0.0733],\n",
      "        [-0.0479, -0.0477],\n",
      "        [-0.0355, -0.0641],\n",
      "        [-0.0426, -0.0584],\n",
      "        [-0.0458, -0.0573],\n",
      "        [-0.0357, -0.0676],\n",
      "        [-0.0359, -0.0666],\n",
      "        [-0.0473, -0.0574],\n",
      "        [-0.0417, -0.0619]], device='cuda:0')\n",
      "tensor([1, 1, 0, 1, 0, 1, 1, 1, 0, 1, 0, 1, 1, 0, 1, 1, 0, 1, 1, 0, 1, 0, 0, 1,\n",
      "        1, 1, 0, 0, 0, 0, 0, 1], device='cuda:0')\n",
      "tensor([[-0.0550, -0.0438],\n",
      "        [-0.0441, -0.0587],\n",
      "        [-0.0305, -0.0770],\n",
      "        [-0.0374, -0.0636],\n",
      "        [-0.0525, -0.0454],\n",
      "        [-0.0464, -0.0549],\n",
      "        [-0.0512, -0.0510],\n",
      "        [-0.0364, -0.0652],\n",
      "        [-0.0437, -0.0577],\n",
      "        [-0.0680, -0.0305],\n",
      "        [-0.0425, -0.0612],\n",
      "        [-0.0567, -0.0460],\n",
      "        [-0.0419, -0.0620],\n",
      "        [-0.0302, -0.0687],\n",
      "        [-0.0537, -0.0470],\n",
      "        [-0.0585, -0.0419],\n",
      "        [-0.0485, -0.0514],\n",
      "        [-0.0498, -0.0489],\n",
      "        [-0.0501, -0.0516],\n",
      "        [-0.0500, -0.0519],\n",
      "        [-0.0516, -0.0530],\n",
      "        [-0.0493, -0.0466],\n",
      "        [-0.0326, -0.0707],\n",
      "        [-0.0380, -0.0591],\n",
      "        [-0.0476, -0.0485],\n",
      "        [-0.0513, -0.0473],\n",
      "        [-0.0411, -0.0604],\n",
      "        [-0.0559, -0.0429],\n",
      "        [-0.0520, -0.0437],\n",
      "        [-0.0563, -0.0459],\n",
      "        [-0.0289, -0.0750],\n",
      "        [-0.0503, -0.0518]], device='cuda:0')\n",
      "tensor([0, 0, 0, 0, 0, 1, 1, 0, 0, 0, 0, 1, 1, 0, 1, 0, 0, 0, 1, 0, 1, 0, 1, 1,\n",
      "        0, 1, 1, 1, 0, 0, 1, 0], device='cuda:0')\n",
      "tensor([[-0.0542, -0.0472],\n",
      "        [-0.0367, -0.0668],\n",
      "        [-0.0477, -0.0558],\n",
      "        [-0.0566, -0.0479],\n",
      "        [-0.0481, -0.0520],\n",
      "        [-0.0502, -0.0514],\n",
      "        [-0.0439, -0.0550],\n",
      "        [-0.0441, -0.0565],\n",
      "        [-0.0413, -0.0623],\n",
      "        [-0.0595, -0.0433],\n",
      "        [-0.0499, -0.0498],\n",
      "        [-0.0442, -0.0512],\n",
      "        [-0.0537, -0.0452],\n",
      "        [-0.0343, -0.0653],\n",
      "        [-0.0571, -0.0433],\n",
      "        [-0.0400, -0.0614],\n",
      "        [-0.0311, -0.0719],\n",
      "        [-0.0426, -0.0574],\n",
      "        [-0.0472, -0.0527],\n",
      "        [-0.0470, -0.0610],\n",
      "        [-0.0554, -0.0405],\n",
      "        [-0.0458, -0.0578],\n",
      "        [-0.0553, -0.0451],\n",
      "        [-0.0403, -0.0598],\n",
      "        [-0.0510, -0.0474],\n",
      "        [-0.0500, -0.0502],\n",
      "        [-0.0320, -0.0688],\n",
      "        [-0.0477, -0.0490],\n",
      "        [-0.0459, -0.0566],\n",
      "        [-0.0492, -0.0514],\n",
      "        [-0.0524, -0.0485],\n",
      "        [-0.0518, -0.0492]], device='cuda:0')\n",
      "tensor([0, 1, 0, 0, 1, 1, 0, 1, 0, 1, 0, 0, 1, 1, 0, 0, 1, 0, 0, 0, 0, 0, 1, 0,\n",
      "        0, 0, 1, 0, 0, 0, 0, 0], device='cuda:0')\n",
      "tensor([[-0.0560, -0.0444],\n",
      "        [-0.0470, -0.0492],\n",
      "        [-0.0438, -0.0629],\n",
      "        [-0.0504, -0.0513],\n",
      "        [-0.0439, -0.0580],\n",
      "        [-0.0434, -0.0530],\n",
      "        [-0.0518, -0.0467],\n",
      "        [-0.0456, -0.0518],\n",
      "        [-0.0619, -0.0365],\n",
      "        [-0.0432, -0.0569],\n",
      "        [-0.0339, -0.0707],\n",
      "        [-0.0301, -0.0737],\n",
      "        [-0.0628, -0.0363],\n",
      "        [-0.0471, -0.0550],\n",
      "        [-0.0494, -0.0510],\n",
      "        [-0.0448, -0.0550],\n",
      "        [-0.0387, -0.0607],\n",
      "        [-0.0519, -0.0435],\n",
      "        [-0.0381, -0.0644],\n",
      "        [-0.0404, -0.0663],\n",
      "        [-0.0586, -0.0407],\n",
      "        [-0.0554, -0.0447],\n",
      "        [-0.0463, -0.0559],\n",
      "        [-0.0666, -0.0260],\n",
      "        [-0.0461, -0.0563],\n",
      "        [-0.0491, -0.0518],\n",
      "        [-0.0566, -0.0380],\n",
      "        [-0.0574, -0.0411],\n",
      "        [-0.0328, -0.0718],\n",
      "        [-0.0371, -0.0675],\n",
      "        [-0.0541, -0.0502],\n",
      "        [-0.0547, -0.0438]], device='cuda:0')\n",
      "tensor([1, 1, 1, 0, 0, 1, 1, 0, 0, 1, 1, 0, 0, 1, 1, 0, 1, 0, 1, 0, 1, 1, 1, 1,\n",
      "        1, 0, 1, 0, 0, 1, 1, 1], device='cuda:0')\n",
      "tensor([[-0.0610, -0.0387],\n",
      "        [-0.0465, -0.0506],\n",
      "        [-0.0510, -0.0491],\n",
      "        [-0.0334, -0.0687],\n",
      "        [-0.0574, -0.0399],\n",
      "        [-0.0593, -0.0401],\n",
      "        [-0.0383, -0.0646],\n",
      "        [-0.0496, -0.0507],\n",
      "        [-0.0562, -0.0455],\n",
      "        [-0.0516, -0.0488],\n",
      "        [-0.0455, -0.0577],\n",
      "        [-0.0455, -0.0557],\n",
      "        [-0.0555, -0.0434],\n",
      "        [-0.0611, -0.0367],\n",
      "        [-0.0335, -0.0669],\n",
      "        [-0.0474, -0.0514],\n",
      "        [-0.0624, -0.0363],\n",
      "        [-0.0454, -0.0574],\n",
      "        [-0.0393, -0.0632],\n",
      "        [-0.0490, -0.0554],\n",
      "        [-0.0325, -0.0690],\n",
      "        [-0.0508, -0.0527],\n",
      "        [-0.0471, -0.0508],\n",
      "        [-0.0435, -0.0603],\n",
      "        [-0.0479, -0.0525],\n",
      "        [-0.0438, -0.0571],\n",
      "        [-0.0604, -0.0336],\n",
      "        [-0.0485, -0.0541],\n",
      "        [-0.0467, -0.0540],\n",
      "        [-0.0534, -0.0435],\n",
      "        [-0.0645, -0.0331],\n",
      "        [-0.0550, -0.0434]], device='cuda:0')\n",
      "tensor([1, 1, 1, 1, 0, 0, 1, 0, 0, 0, 0, 0, 1, 1, 0, 1, 1, 1, 0, 0, 1, 0, 1, 0,\n",
      "        1, 1, 0, 0, 1, 0, 0, 0], device='cuda:0')\n",
      "tensor([[-0.0357, -0.0698],\n",
      "        [-0.0463, -0.0562],\n",
      "        [-0.0506, -0.0478],\n",
      "        [-0.0386, -0.0625],\n",
      "        [-0.0362, -0.0660],\n",
      "        [-0.0521, -0.0459],\n",
      "        [-0.0528, -0.0509],\n",
      "        [-0.0423, -0.0599],\n",
      "        [-0.0540, -0.0460],\n",
      "        [-0.0511, -0.0549],\n",
      "        [-0.0456, -0.0608],\n",
      "        [-0.0489, -0.0538],\n",
      "        [-0.0653, -0.0330],\n",
      "        [-0.0515, -0.0495],\n",
      "        [-0.0567, -0.0455],\n",
      "        [-0.0486, -0.0496],\n",
      "        [-0.0639, -0.0347],\n",
      "        [-0.0406, -0.0614],\n",
      "        [-0.0350, -0.0687],\n",
      "        [-0.0412, -0.0616],\n",
      "        [-0.0504, -0.0499],\n",
      "        [-0.0432, -0.0575],\n",
      "        [-0.0570, -0.0435],\n",
      "        [-0.0372, -0.0630],\n",
      "        [-0.0517, -0.0504],\n",
      "        [-0.0394, -0.0630],\n",
      "        [-0.0430, -0.0629],\n",
      "        [-0.0414, -0.0542],\n",
      "        [-0.0500, -0.0512],\n",
      "        [-0.0333, -0.0682],\n",
      "        [-0.0460, -0.0579],\n",
      "        [-0.0527, -0.0471]], device='cuda:0')\n",
      "tensor([0, 1, 1, 0, 1, 1, 0, 1, 0, 0, 0, 0, 1, 0, 1, 0, 1, 1, 0, 0, 0, 1, 0, 0,\n",
      "        1, 1, 1, 1, 0, 1, 1, 1], device='cuda:0')\n",
      "tensor([[-0.0390, -0.0655],\n",
      "        [-0.0513, -0.0508],\n",
      "        [-0.0356, -0.0668],\n",
      "        [-0.0449, -0.0556],\n",
      "        [-0.0313, -0.0728],\n",
      "        [-0.0391, -0.0626],\n",
      "        [-0.0489, -0.0550],\n",
      "        [-0.0505, -0.0475],\n",
      "        [-0.0595, -0.0420],\n",
      "        [-0.0429, -0.0577],\n",
      "        [-0.0456, -0.0557],\n",
      "        [-0.0435, -0.0528],\n",
      "        [-0.0643, -0.0320],\n",
      "        [-0.0496, -0.0514],\n",
      "        [-0.0418, -0.0587],\n",
      "        [-0.0510, -0.0484],\n",
      "        [-0.0452, -0.0534],\n",
      "        [-0.0596, -0.0430],\n",
      "        [-0.0466, -0.0540],\n",
      "        [-0.0489, -0.0524],\n",
      "        [-0.0442, -0.0606],\n",
      "        [-0.0515, -0.0455],\n",
      "        [-0.0424, -0.0540],\n",
      "        [-0.0568, -0.0424],\n",
      "        [-0.0474, -0.0590],\n",
      "        [-0.0370, -0.0613],\n",
      "        [-0.0571, -0.0435],\n",
      "        [-0.0582, -0.0394],\n",
      "        [-0.0384, -0.0616],\n",
      "        [-0.0507, -0.0553],\n",
      "        [-0.0716, -0.0233],\n",
      "        [-0.0392, -0.0569]], device='cuda:0')\n",
      "tensor([1, 1, 1, 0, 0, 0, 0, 0, 0, 0, 0, 0, 1, 0, 1, 1, 1, 1, 1, 1, 0, 1, 1, 1,\n",
      "        0, 0, 1, 1, 1, 0, 1, 0], device='cuda:0')\n",
      "tensor([[-0.0612, -0.0418],\n",
      "        [-0.0523, -0.0436],\n",
      "        [-0.0361, -0.0667],\n",
      "        [-0.0438, -0.0555],\n",
      "        [-0.0437, -0.0554],\n",
      "        [-0.0529, -0.0461],\n",
      "        [-0.0434, -0.0585],\n",
      "        [-0.0601, -0.0435],\n",
      "        [-0.0521, -0.0480],\n",
      "        [-0.0474, -0.0571],\n",
      "        [-0.0479, -0.0525],\n",
      "        [-0.0420, -0.0594],\n",
      "        [-0.0455, -0.0581],\n",
      "        [-0.0364, -0.0668],\n",
      "        [-0.0624, -0.0388],\n",
      "        [-0.0388, -0.0667],\n",
      "        [-0.0597, -0.0397],\n",
      "        [-0.0490, -0.0522],\n",
      "        [-0.0475, -0.0541],\n",
      "        [-0.0524, -0.0508],\n",
      "        [-0.0578, -0.0426],\n",
      "        [-0.0354, -0.0679],\n",
      "        [-0.0448, -0.0568],\n",
      "        [-0.0418, -0.0591],\n",
      "        [-0.0417, -0.0561],\n",
      "        [-0.0391, -0.0633],\n",
      "        [-0.0624, -0.0338],\n",
      "        [-0.0417, -0.0617],\n",
      "        [-0.0566, -0.0471],\n",
      "        [-0.0617, -0.0352],\n",
      "        [-0.0526, -0.0458],\n",
      "        [-0.0581, -0.0410]], device='cuda:0')\n",
      "tensor([1, 0, 1, 0, 0, 1, 1, 0, 0, 1, 1, 0, 0, 1, 1, 1, 0, 0, 0, 0, 0, 0, 0, 1,\n",
      "        1, 1, 1, 1, 0, 1, 1, 1], device='cuda:0')\n",
      "tensor([[-0.0631, -0.0389],\n",
      "        [-0.0407, -0.0629],\n",
      "        [-0.0512, -0.0485],\n",
      "        [-0.0598, -0.0427],\n",
      "        [-0.0450, -0.0558],\n",
      "        [-0.0571, -0.0442],\n",
      "        [-0.0405, -0.0623],\n",
      "        [-0.0442, -0.0590],\n",
      "        [-0.0530, -0.0477],\n",
      "        [-0.0428, -0.0574],\n",
      "        [-0.0467, -0.0547],\n",
      "        [-0.0472, -0.0519],\n",
      "        [-0.0396, -0.0618],\n",
      "        [-0.0569, -0.0426],\n",
      "        [-0.0322, -0.0707],\n",
      "        [-0.0565, -0.0405],\n",
      "        [-0.0394, -0.0613],\n",
      "        [-0.0483, -0.0502],\n",
      "        [-0.0604, -0.0385],\n",
      "        [-0.0576, -0.0452],\n",
      "        [-0.0469, -0.0539],\n",
      "        [-0.0505, -0.0513],\n",
      "        [-0.0394, -0.0622],\n",
      "        [-0.0416, -0.0582],\n",
      "        [-0.0438, -0.0564],\n",
      "        [-0.0363, -0.0643],\n",
      "        [-0.0415, -0.0582],\n",
      "        [-0.0491, -0.0504],\n",
      "        [-0.0472, -0.0542],\n",
      "        [-0.0512, -0.0517],\n",
      "        [-0.0571, -0.0415],\n",
      "        [-0.0520, -0.0448]], device='cuda:0')\n"
     ]
    },
    {
     "ename": "KeyboardInterrupt",
     "evalue": "",
     "output_type": "error",
     "traceback": [
      "\u001b[1;31m---------------------------------------------------------------------------\u001b[0m",
      "\u001b[1;31mKeyboardInterrupt\u001b[0m                         Traceback (most recent call last)",
      "Cell \u001b[1;32mIn[232], line 5\u001b[0m\n\u001b[0;32m      1\u001b[0m \u001b[38;5;28;01mwith\u001b[39;00m torch\u001b[38;5;241m.\u001b[39mno_grad():\n\u001b[0;32m      3\u001b[0m   running_loss \u001b[38;5;241m=\u001b[39m \u001b[38;5;241m0.0\u001b[39m\n\u001b[1;32m----> 5\u001b[0m \u001b[43m  \u001b[49m\u001b[38;5;28;43;01mfor\u001b[39;49;00m\u001b[43m \u001b[49m\u001b[43mi\u001b[49m\u001b[43m,\u001b[49m\u001b[43m \u001b[49m\u001b[43mdata\u001b[49m\u001b[43m \u001b[49m\u001b[38;5;129;43;01min\u001b[39;49;00m\u001b[43m \u001b[49m\u001b[38;5;28;43menumerate\u001b[39;49m\u001b[43m(\u001b[49m\u001b[43mval_loader\u001b[49m\u001b[43m,\u001b[49m\u001b[43m \u001b[49m\u001b[38;5;241;43m0\u001b[39;49m\u001b[43m)\u001b[49m\u001b[43m:\u001b[49m\n\u001b[0;32m      6\u001b[0m \u001b[43m    \u001b[49m\u001b[43mimages\u001b[49m\u001b[43m,\u001b[49m\u001b[43m \u001b[49m\u001b[43mlabels\u001b[49m\u001b[43m \u001b[49m\u001b[38;5;241;43m=\u001b[39;49m\u001b[43m \u001b[49m\u001b[43mdata\u001b[49m\n\u001b[0;32m      7\u001b[0m \u001b[43m    \u001b[49m\u001b[43mimages\u001b[49m\u001b[43m,\u001b[49m\u001b[43m \u001b[49m\u001b[43mlabels\u001b[49m\u001b[43m \u001b[49m\u001b[38;5;241;43m=\u001b[39;49m\u001b[43m \u001b[49m\u001b[43mimages\u001b[49m\u001b[38;5;241;43m.\u001b[39;49m\u001b[43mto\u001b[49m\u001b[43m(\u001b[49m\u001b[43mdevice\u001b[49m\u001b[43m)\u001b[49m\u001b[43m,\u001b[49m\u001b[43m \u001b[49m\u001b[43mlabels\u001b[49m\u001b[38;5;241;43m.\u001b[39;49m\u001b[43mto\u001b[49m\u001b[43m(\u001b[49m\u001b[43mdevice\u001b[49m\u001b[43m)\u001b[49m\n",
      "File \u001b[1;32mc:\\Users\\Ato\\Documents\\Programming\\Python\\catdog\\env\\Lib\\site-packages\\torch\\utils\\data\\dataloader.py:630\u001b[0m, in \u001b[0;36m_BaseDataLoaderIter.__next__\u001b[1;34m(self)\u001b[0m\n\u001b[0;32m    627\u001b[0m \u001b[38;5;28;01mif\u001b[39;00m \u001b[38;5;28mself\u001b[39m\u001b[38;5;241m.\u001b[39m_sampler_iter \u001b[38;5;129;01mis\u001b[39;00m \u001b[38;5;28;01mNone\u001b[39;00m:\n\u001b[0;32m    628\u001b[0m     \u001b[38;5;66;03m# TODO(https://github.com/pytorch/pytorch/issues/76750)\u001b[39;00m\n\u001b[0;32m    629\u001b[0m     \u001b[38;5;28mself\u001b[39m\u001b[38;5;241m.\u001b[39m_reset()  \u001b[38;5;66;03m# type: ignore[call-arg]\u001b[39;00m\n\u001b[1;32m--> 630\u001b[0m data \u001b[38;5;241m=\u001b[39m \u001b[38;5;28;43mself\u001b[39;49m\u001b[38;5;241;43m.\u001b[39;49m\u001b[43m_next_data\u001b[49m\u001b[43m(\u001b[49m\u001b[43m)\u001b[49m\n\u001b[0;32m    631\u001b[0m \u001b[38;5;28mself\u001b[39m\u001b[38;5;241m.\u001b[39m_num_yielded \u001b[38;5;241m+\u001b[39m\u001b[38;5;241m=\u001b[39m \u001b[38;5;241m1\u001b[39m\n\u001b[0;32m    632\u001b[0m \u001b[38;5;28;01mif\u001b[39;00m \u001b[38;5;28mself\u001b[39m\u001b[38;5;241m.\u001b[39m_dataset_kind \u001b[38;5;241m==\u001b[39m _DatasetKind\u001b[38;5;241m.\u001b[39mIterable \u001b[38;5;129;01mand\u001b[39;00m \\\n\u001b[0;32m    633\u001b[0m         \u001b[38;5;28mself\u001b[39m\u001b[38;5;241m.\u001b[39m_IterableDataset_len_called \u001b[38;5;129;01mis\u001b[39;00m \u001b[38;5;129;01mnot\u001b[39;00m \u001b[38;5;28;01mNone\u001b[39;00m \u001b[38;5;129;01mand\u001b[39;00m \\\n\u001b[0;32m    634\u001b[0m         \u001b[38;5;28mself\u001b[39m\u001b[38;5;241m.\u001b[39m_num_yielded \u001b[38;5;241m>\u001b[39m \u001b[38;5;28mself\u001b[39m\u001b[38;5;241m.\u001b[39m_IterableDataset_len_called:\n",
      "File \u001b[1;32mc:\\Users\\Ato\\Documents\\Programming\\Python\\catdog\\env\\Lib\\site-packages\\torch\\utils\\data\\dataloader.py:674\u001b[0m, in \u001b[0;36m_SingleProcessDataLoaderIter._next_data\u001b[1;34m(self)\u001b[0m\n\u001b[0;32m    672\u001b[0m \u001b[38;5;28;01mdef\u001b[39;00m \u001b[38;5;21m_next_data\u001b[39m(\u001b[38;5;28mself\u001b[39m):\n\u001b[0;32m    673\u001b[0m     index \u001b[38;5;241m=\u001b[39m \u001b[38;5;28mself\u001b[39m\u001b[38;5;241m.\u001b[39m_next_index()  \u001b[38;5;66;03m# may raise StopIteration\u001b[39;00m\n\u001b[1;32m--> 674\u001b[0m     data \u001b[38;5;241m=\u001b[39m \u001b[38;5;28;43mself\u001b[39;49m\u001b[38;5;241;43m.\u001b[39;49m\u001b[43m_dataset_fetcher\u001b[49m\u001b[38;5;241;43m.\u001b[39;49m\u001b[43mfetch\u001b[49m\u001b[43m(\u001b[49m\u001b[43mindex\u001b[49m\u001b[43m)\u001b[49m  \u001b[38;5;66;03m# may raise StopIteration\u001b[39;00m\n\u001b[0;32m    675\u001b[0m     \u001b[38;5;28;01mif\u001b[39;00m \u001b[38;5;28mself\u001b[39m\u001b[38;5;241m.\u001b[39m_pin_memory:\n\u001b[0;32m    676\u001b[0m         data \u001b[38;5;241m=\u001b[39m _utils\u001b[38;5;241m.\u001b[39mpin_memory\u001b[38;5;241m.\u001b[39mpin_memory(data, \u001b[38;5;28mself\u001b[39m\u001b[38;5;241m.\u001b[39m_pin_memory_device)\n",
      "File \u001b[1;32mc:\\Users\\Ato\\Documents\\Programming\\Python\\catdog\\env\\Lib\\site-packages\\torch\\utils\\data\\_utils\\fetch.py:51\u001b[0m, in \u001b[0;36m_MapDatasetFetcher.fetch\u001b[1;34m(self, possibly_batched_index)\u001b[0m\n\u001b[0;32m     49\u001b[0m         data \u001b[38;5;241m=\u001b[39m \u001b[38;5;28mself\u001b[39m\u001b[38;5;241m.\u001b[39mdataset\u001b[38;5;241m.\u001b[39m__getitems__(possibly_batched_index)\n\u001b[0;32m     50\u001b[0m     \u001b[38;5;28;01melse\u001b[39;00m:\n\u001b[1;32m---> 51\u001b[0m         data \u001b[38;5;241m=\u001b[39m \u001b[43m[\u001b[49m\u001b[38;5;28;43mself\u001b[39;49m\u001b[38;5;241;43m.\u001b[39;49m\u001b[43mdataset\u001b[49m\u001b[43m[\u001b[49m\u001b[43midx\u001b[49m\u001b[43m]\u001b[49m\u001b[43m \u001b[49m\u001b[38;5;28;43;01mfor\u001b[39;49;00m\u001b[43m \u001b[49m\u001b[43midx\u001b[49m\u001b[43m \u001b[49m\u001b[38;5;129;43;01min\u001b[39;49;00m\u001b[43m \u001b[49m\u001b[43mpossibly_batched_index\u001b[49m\u001b[43m]\u001b[49m\n\u001b[0;32m     52\u001b[0m \u001b[38;5;28;01melse\u001b[39;00m:\n\u001b[0;32m     53\u001b[0m     data \u001b[38;5;241m=\u001b[39m \u001b[38;5;28mself\u001b[39m\u001b[38;5;241m.\u001b[39mdataset[possibly_batched_index]\n",
      "File \u001b[1;32mc:\\Users\\Ato\\Documents\\Programming\\Python\\catdog\\env\\Lib\\site-packages\\torch\\utils\\data\\_utils\\fetch.py:51\u001b[0m, in \u001b[0;36m<listcomp>\u001b[1;34m(.0)\u001b[0m\n\u001b[0;32m     49\u001b[0m         data \u001b[38;5;241m=\u001b[39m \u001b[38;5;28mself\u001b[39m\u001b[38;5;241m.\u001b[39mdataset\u001b[38;5;241m.\u001b[39m__getitems__(possibly_batched_index)\n\u001b[0;32m     50\u001b[0m     \u001b[38;5;28;01melse\u001b[39;00m:\n\u001b[1;32m---> 51\u001b[0m         data \u001b[38;5;241m=\u001b[39m [\u001b[38;5;28;43mself\u001b[39;49m\u001b[38;5;241;43m.\u001b[39;49m\u001b[43mdataset\u001b[49m\u001b[43m[\u001b[49m\u001b[43midx\u001b[49m\u001b[43m]\u001b[49m \u001b[38;5;28;01mfor\u001b[39;00m idx \u001b[38;5;129;01min\u001b[39;00m possibly_batched_index]\n\u001b[0;32m     52\u001b[0m \u001b[38;5;28;01melse\u001b[39;00m:\n\u001b[0;32m     53\u001b[0m     data \u001b[38;5;241m=\u001b[39m \u001b[38;5;28mself\u001b[39m\u001b[38;5;241m.\u001b[39mdataset[possibly_batched_index]\n",
      "Cell \u001b[1;32mIn[200], line 21\u001b[0m, in \u001b[0;36mCustomDataset.__getitem__\u001b[1;34m(self, idx)\u001b[0m\n\u001b[0;32m     18\u001b[0m label \u001b[38;5;241m=\u001b[39m \u001b[38;5;28mself\u001b[39m\u001b[38;5;241m.\u001b[39mdataframe\u001b[38;5;241m.\u001b[39miloc[idx, \u001b[38;5;241m1\u001b[39m]\n\u001b[0;32m     20\u001b[0m \u001b[38;5;28;01mif\u001b[39;00m \u001b[38;5;28mself\u001b[39m\u001b[38;5;241m.\u001b[39mtransform:\n\u001b[1;32m---> 21\u001b[0m   image \u001b[38;5;241m=\u001b[39m \u001b[38;5;28;43mself\u001b[39;49m\u001b[38;5;241;43m.\u001b[39;49m\u001b[43mtransform\u001b[49m\u001b[43m(\u001b[49m\u001b[43mimage\u001b[49m\u001b[43m)\u001b[49m\n\u001b[0;32m     23\u001b[0m \u001b[38;5;28;01mreturn\u001b[39;00m image, label\n",
      "File \u001b[1;32mc:\\Users\\Ato\\Documents\\Programming\\Python\\catdog\\env\\Lib\\site-packages\\torchvision\\transforms\\transforms.py:95\u001b[0m, in \u001b[0;36mCompose.__call__\u001b[1;34m(self, img)\u001b[0m\n\u001b[0;32m     93\u001b[0m \u001b[38;5;28;01mdef\u001b[39;00m \u001b[38;5;21m__call__\u001b[39m(\u001b[38;5;28mself\u001b[39m, img):\n\u001b[0;32m     94\u001b[0m     \u001b[38;5;28;01mfor\u001b[39;00m t \u001b[38;5;129;01min\u001b[39;00m \u001b[38;5;28mself\u001b[39m\u001b[38;5;241m.\u001b[39mtransforms:\n\u001b[1;32m---> 95\u001b[0m         img \u001b[38;5;241m=\u001b[39m \u001b[43mt\u001b[49m\u001b[43m(\u001b[49m\u001b[43mimg\u001b[49m\u001b[43m)\u001b[49m\n\u001b[0;32m     96\u001b[0m     \u001b[38;5;28;01mreturn\u001b[39;00m img\n",
      "File \u001b[1;32mc:\\Users\\Ato\\Documents\\Programming\\Python\\catdog\\env\\Lib\\site-packages\\torch\\nn\\modules\\module.py:1518\u001b[0m, in \u001b[0;36mModule._wrapped_call_impl\u001b[1;34m(self, *args, **kwargs)\u001b[0m\n\u001b[0;32m   1516\u001b[0m     \u001b[38;5;28;01mreturn\u001b[39;00m \u001b[38;5;28mself\u001b[39m\u001b[38;5;241m.\u001b[39m_compiled_call_impl(\u001b[38;5;241m*\u001b[39margs, \u001b[38;5;241m*\u001b[39m\u001b[38;5;241m*\u001b[39mkwargs)  \u001b[38;5;66;03m# type: ignore[misc]\u001b[39;00m\n\u001b[0;32m   1517\u001b[0m \u001b[38;5;28;01melse\u001b[39;00m:\n\u001b[1;32m-> 1518\u001b[0m     \u001b[38;5;28;01mreturn\u001b[39;00m \u001b[38;5;28;43mself\u001b[39;49m\u001b[38;5;241;43m.\u001b[39;49m\u001b[43m_call_impl\u001b[49m\u001b[43m(\u001b[49m\u001b[38;5;241;43m*\u001b[39;49m\u001b[43margs\u001b[49m\u001b[43m,\u001b[49m\u001b[43m \u001b[49m\u001b[38;5;241;43m*\u001b[39;49m\u001b[38;5;241;43m*\u001b[39;49m\u001b[43mkwargs\u001b[49m\u001b[43m)\u001b[49m\n",
      "File \u001b[1;32mc:\\Users\\Ato\\Documents\\Programming\\Python\\catdog\\env\\Lib\\site-packages\\torch\\nn\\modules\\module.py:1527\u001b[0m, in \u001b[0;36mModule._call_impl\u001b[1;34m(self, *args, **kwargs)\u001b[0m\n\u001b[0;32m   1522\u001b[0m \u001b[38;5;66;03m# If we don't have any hooks, we want to skip the rest of the logic in\u001b[39;00m\n\u001b[0;32m   1523\u001b[0m \u001b[38;5;66;03m# this function, and just call forward.\u001b[39;00m\n\u001b[0;32m   1524\u001b[0m \u001b[38;5;28;01mif\u001b[39;00m \u001b[38;5;129;01mnot\u001b[39;00m (\u001b[38;5;28mself\u001b[39m\u001b[38;5;241m.\u001b[39m_backward_hooks \u001b[38;5;129;01mor\u001b[39;00m \u001b[38;5;28mself\u001b[39m\u001b[38;5;241m.\u001b[39m_backward_pre_hooks \u001b[38;5;129;01mor\u001b[39;00m \u001b[38;5;28mself\u001b[39m\u001b[38;5;241m.\u001b[39m_forward_hooks \u001b[38;5;129;01mor\u001b[39;00m \u001b[38;5;28mself\u001b[39m\u001b[38;5;241m.\u001b[39m_forward_pre_hooks\n\u001b[0;32m   1525\u001b[0m         \u001b[38;5;129;01mor\u001b[39;00m _global_backward_pre_hooks \u001b[38;5;129;01mor\u001b[39;00m _global_backward_hooks\n\u001b[0;32m   1526\u001b[0m         \u001b[38;5;129;01mor\u001b[39;00m _global_forward_hooks \u001b[38;5;129;01mor\u001b[39;00m _global_forward_pre_hooks):\n\u001b[1;32m-> 1527\u001b[0m     \u001b[38;5;28;01mreturn\u001b[39;00m \u001b[43mforward_call\u001b[49m\u001b[43m(\u001b[49m\u001b[38;5;241;43m*\u001b[39;49m\u001b[43margs\u001b[49m\u001b[43m,\u001b[49m\u001b[43m \u001b[49m\u001b[38;5;241;43m*\u001b[39;49m\u001b[38;5;241;43m*\u001b[39;49m\u001b[43mkwargs\u001b[49m\u001b[43m)\u001b[49m\n\u001b[0;32m   1529\u001b[0m \u001b[38;5;28;01mtry\u001b[39;00m:\n\u001b[0;32m   1530\u001b[0m     result \u001b[38;5;241m=\u001b[39m \u001b[38;5;28;01mNone\u001b[39;00m\n",
      "File \u001b[1;32mc:\\Users\\Ato\\Documents\\Programming\\Python\\catdog\\env\\Lib\\site-packages\\torchvision\\transforms\\transforms.py:361\u001b[0m, in \u001b[0;36mResize.forward\u001b[1;34m(self, img)\u001b[0m\n\u001b[0;32m    353\u001b[0m \u001b[38;5;28;01mdef\u001b[39;00m \u001b[38;5;21mforward\u001b[39m(\u001b[38;5;28mself\u001b[39m, img):\n\u001b[0;32m    354\u001b[0m \u001b[38;5;250m    \u001b[39m\u001b[38;5;124;03m\"\"\"\u001b[39;00m\n\u001b[0;32m    355\u001b[0m \u001b[38;5;124;03m    Args:\u001b[39;00m\n\u001b[0;32m    356\u001b[0m \u001b[38;5;124;03m        img (PIL Image or Tensor): Image to be scaled.\u001b[39;00m\n\u001b[1;32m   (...)\u001b[0m\n\u001b[0;32m    359\u001b[0m \u001b[38;5;124;03m        PIL Image or Tensor: Rescaled image.\u001b[39;00m\n\u001b[0;32m    360\u001b[0m \u001b[38;5;124;03m    \"\"\"\u001b[39;00m\n\u001b[1;32m--> 361\u001b[0m     \u001b[38;5;28;01mreturn\u001b[39;00m \u001b[43mF\u001b[49m\u001b[38;5;241;43m.\u001b[39;49m\u001b[43mresize\u001b[49m\u001b[43m(\u001b[49m\u001b[43mimg\u001b[49m\u001b[43m,\u001b[49m\u001b[43m \u001b[49m\u001b[38;5;28;43mself\u001b[39;49m\u001b[38;5;241;43m.\u001b[39;49m\u001b[43msize\u001b[49m\u001b[43m,\u001b[49m\u001b[43m \u001b[49m\u001b[38;5;28;43mself\u001b[39;49m\u001b[38;5;241;43m.\u001b[39;49m\u001b[43minterpolation\u001b[49m\u001b[43m,\u001b[49m\u001b[43m \u001b[49m\u001b[38;5;28;43mself\u001b[39;49m\u001b[38;5;241;43m.\u001b[39;49m\u001b[43mmax_size\u001b[49m\u001b[43m,\u001b[49m\u001b[43m \u001b[49m\u001b[38;5;28;43mself\u001b[39;49m\u001b[38;5;241;43m.\u001b[39;49m\u001b[43mantialias\u001b[49m\u001b[43m)\u001b[49m\n",
      "File \u001b[1;32mc:\\Users\\Ato\\Documents\\Programming\\Python\\catdog\\env\\Lib\\site-packages\\torchvision\\transforms\\functional.py:490\u001b[0m, in \u001b[0;36mresize\u001b[1;34m(img, size, interpolation, max_size, antialias)\u001b[0m\n\u001b[0;32m    488\u001b[0m         warnings\u001b[38;5;241m.\u001b[39mwarn(\u001b[38;5;124m\"\u001b[39m\u001b[38;5;124mAnti-alias option is always applied for PIL Image input. Argument antialias is ignored.\u001b[39m\u001b[38;5;124m\"\u001b[39m)\n\u001b[0;32m    489\u001b[0m     pil_interpolation \u001b[38;5;241m=\u001b[39m pil_modes_mapping[interpolation]\n\u001b[1;32m--> 490\u001b[0m     \u001b[38;5;28;01mreturn\u001b[39;00m \u001b[43mF_pil\u001b[49m\u001b[38;5;241;43m.\u001b[39;49m\u001b[43mresize\u001b[49m\u001b[43m(\u001b[49m\u001b[43mimg\u001b[49m\u001b[43m,\u001b[49m\u001b[43m \u001b[49m\u001b[43msize\u001b[49m\u001b[38;5;241;43m=\u001b[39;49m\u001b[43moutput_size\u001b[49m\u001b[43m,\u001b[49m\u001b[43m \u001b[49m\u001b[43minterpolation\u001b[49m\u001b[38;5;241;43m=\u001b[39;49m\u001b[43mpil_interpolation\u001b[49m\u001b[43m)\u001b[49m\n\u001b[0;32m    492\u001b[0m \u001b[38;5;28;01mreturn\u001b[39;00m F_t\u001b[38;5;241m.\u001b[39mresize(img, size\u001b[38;5;241m=\u001b[39moutput_size, interpolation\u001b[38;5;241m=\u001b[39minterpolation\u001b[38;5;241m.\u001b[39mvalue, antialias\u001b[38;5;241m=\u001b[39mantialias)\n",
      "File \u001b[1;32mc:\\Users\\Ato\\Documents\\Programming\\Python\\catdog\\env\\Lib\\site-packages\\torchvision\\transforms\\_functional_pil.py:250\u001b[0m, in \u001b[0;36mresize\u001b[1;34m(img, size, interpolation)\u001b[0m\n\u001b[0;32m    247\u001b[0m \u001b[38;5;28;01mif\u001b[39;00m \u001b[38;5;129;01mnot\u001b[39;00m (\u001b[38;5;28misinstance\u001b[39m(size, \u001b[38;5;28mlist\u001b[39m) \u001b[38;5;129;01mand\u001b[39;00m \u001b[38;5;28mlen\u001b[39m(size) \u001b[38;5;241m==\u001b[39m \u001b[38;5;241m2\u001b[39m):\n\u001b[0;32m    248\u001b[0m     \u001b[38;5;28;01mraise\u001b[39;00m \u001b[38;5;167;01mTypeError\u001b[39;00m(\u001b[38;5;124mf\u001b[39m\u001b[38;5;124m\"\u001b[39m\u001b[38;5;124mGot inappropriate size arg: \u001b[39m\u001b[38;5;132;01m{\u001b[39;00msize\u001b[38;5;132;01m}\u001b[39;00m\u001b[38;5;124m\"\u001b[39m)\n\u001b[1;32m--> 250\u001b[0m \u001b[38;5;28;01mreturn\u001b[39;00m \u001b[43mimg\u001b[49m\u001b[38;5;241;43m.\u001b[39;49m\u001b[43mresize\u001b[49m\u001b[43m(\u001b[49m\u001b[38;5;28;43mtuple\u001b[39;49m\u001b[43m(\u001b[49m\u001b[43msize\u001b[49m\u001b[43m[\u001b[49m\u001b[43m:\u001b[49m\u001b[43m:\u001b[49m\u001b[38;5;241;43m-\u001b[39;49m\u001b[38;5;241;43m1\u001b[39;49m\u001b[43m]\u001b[49m\u001b[43m)\u001b[49m\u001b[43m,\u001b[49m\u001b[43m \u001b[49m\u001b[43minterpolation\u001b[49m\u001b[43m)\u001b[49m\n",
      "File \u001b[1;32mc:\\Users\\Ato\\Documents\\Programming\\Python\\catdog\\env\\Lib\\site-packages\\PIL\\Image.py:2200\u001b[0m, in \u001b[0;36mImage.resize\u001b[1;34m(self, size, resample, box, reducing_gap)\u001b[0m\n\u001b[0;32m   2192\u001b[0m             \u001b[38;5;28mself\u001b[39m \u001b[38;5;241m=\u001b[39m Image\u001b[38;5;241m.\u001b[39mreduce(\u001b[38;5;28mself\u001b[39m, factor, box\u001b[38;5;241m=\u001b[39mreduce_box)\n\u001b[0;32m   2193\u001b[0m         box \u001b[38;5;241m=\u001b[39m (\n\u001b[0;32m   2194\u001b[0m             (box[\u001b[38;5;241m0\u001b[39m] \u001b[38;5;241m-\u001b[39m reduce_box[\u001b[38;5;241m0\u001b[39m]) \u001b[38;5;241m/\u001b[39m factor_x,\n\u001b[0;32m   2195\u001b[0m             (box[\u001b[38;5;241m1\u001b[39m] \u001b[38;5;241m-\u001b[39m reduce_box[\u001b[38;5;241m1\u001b[39m]) \u001b[38;5;241m/\u001b[39m factor_y,\n\u001b[0;32m   2196\u001b[0m             (box[\u001b[38;5;241m2\u001b[39m] \u001b[38;5;241m-\u001b[39m reduce_box[\u001b[38;5;241m0\u001b[39m]) \u001b[38;5;241m/\u001b[39m factor_x,\n\u001b[0;32m   2197\u001b[0m             (box[\u001b[38;5;241m3\u001b[39m] \u001b[38;5;241m-\u001b[39m reduce_box[\u001b[38;5;241m1\u001b[39m]) \u001b[38;5;241m/\u001b[39m factor_y,\n\u001b[0;32m   2198\u001b[0m         )\n\u001b[1;32m-> 2200\u001b[0m \u001b[38;5;28;01mreturn\u001b[39;00m \u001b[38;5;28mself\u001b[39m\u001b[38;5;241m.\u001b[39m_new(\u001b[38;5;28;43mself\u001b[39;49m\u001b[38;5;241;43m.\u001b[39;49m\u001b[43mim\u001b[49m\u001b[38;5;241;43m.\u001b[39;49m\u001b[43mresize\u001b[49m\u001b[43m(\u001b[49m\u001b[43msize\u001b[49m\u001b[43m,\u001b[49m\u001b[43m \u001b[49m\u001b[43mresample\u001b[49m\u001b[43m,\u001b[49m\u001b[43m \u001b[49m\u001b[43mbox\u001b[49m\u001b[43m)\u001b[49m)\n",
      "\u001b[1;31mKeyboardInterrupt\u001b[0m: "
     ]
    }
   ],
   "source": [
    "with torch.no_grad():\n",
    "  \n",
    "  running_loss = 0.0\n",
    "\n",
    "  for i, data in enumerate(val_loader, 0):\n",
    "    images, labels = data\n",
    "    images, labels = images.to(device), labels.to(device)\n",
    "\n",
    "    output = cnn(images)\n",
    "\n",
    "    loss = criterion(output, labels)\n",
    "    \n",
    "    if i%20 == 19:\n",
    "      running_loss += loss\n",
    "      print(f'loss: {running_loss / 50:.5f}')\n",
    "      "
   ]
  },
  {
   "cell_type": "markdown",
   "metadata": {},
   "source": [
    "## TESTING"
   ]
  },
  {
   "cell_type": "code",
   "execution_count": 214,
   "metadata": {},
   "outputs": [
    {
     "data": {
      "text/plain": [
       "<bound method Module.eval of CNN(\n",
       "  (conv1): Conv2d(3, 6, kernel_size=(5, 5), stride=(1, 1))\n",
       "  (conv2): Conv2d(6, 16, kernel_size=(5, 5), stride=(1, 1))\n",
       "  (pool): MaxPool2d(kernel_size=2, stride=2, padding=0, dilation=1, ceil_mode=False)\n",
       "  (fc1): Linear(in_features=90768, out_features=256, bias=True)\n",
       "  (fc2): Linear(in_features=256, out_features=120, bias=True)\n",
       "  (fc3): Linear(in_features=120, out_features=2, bias=True)\n",
       ")>"
      ]
     },
     "execution_count": 214,
     "metadata": {},
     "output_type": "execute_result"
    }
   ],
   "source": [
    "cnn = CNN()\n",
    "cnn.load_state_dict(torch.load(model_path))\n",
    "cnn.eval()\n",
    "cnn.to(device)\n",
    "cnn.eval"
   ]
  },
  {
   "cell_type": "code",
   "execution_count": 240,
   "metadata": {},
   "outputs": [
    {
     "name": "stdout",
     "output_type": "stream",
     "text": [
      "TOTAL ACCURACY: 0.5564\n"
     ]
    }
   ],
   "source": [
    "acc = []\n",
    "\n",
    "for i, data in enumerate(testing_loader):\n",
    "  imgs, labels = data\n",
    "  imgs, labels = imgs.to(device), labels.to(device)\n",
    "\n",
    "  output = cnn(imgs)\n",
    "  probabilities = F.softmax(output, dim=1)\n",
    "  predicted_class = torch.argmax(probabilities, dim=1)\n",
    "  if predicted_class == labels:\n",
    "    acc.append(int(1))\n",
    "  else:\n",
    "    acc.append(int(0))\n",
    "  \n",
    "accuracy = sum(acc)/len(testing_loader)\n",
    "print(f\"TOTAL ACCURACY: {accuracy}\")"
   ]
  },
  {
   "cell_type": "code",
   "execution_count": null,
   "metadata": {},
   "outputs": [],
   "source": []
  }
 ],
 "metadata": {
  "kernelspec": {
   "display_name": "env",
   "language": "python",
   "name": "python3"
  },
  "language_info": {
   "codemirror_mode": {
    "name": "ipython",
    "version": 3
   },
   "file_extension": ".py",
   "mimetype": "text/x-python",
   "name": "python",
   "nbconvert_exporter": "python",
   "pygments_lexer": "ipython3",
   "version": "3.11.0"
  }
 },
 "nbformat": 4,
 "nbformat_minor": 2
}
