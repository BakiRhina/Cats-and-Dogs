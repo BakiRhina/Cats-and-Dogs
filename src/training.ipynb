{
 "cells": [
  {
   "cell_type": "markdown",
   "metadata": {},
   "source": [
    "### Importing necessary libraries (torch, matplotlib)"
   ]
  },
  {
   "cell_type": "code",
   "execution_count": 1,
   "metadata": {},
   "outputs": [],
   "source": [
    "import pandas as pd\n",
    "import numpy as np\n",
    "import matplotlib.pyplot as plt\n",
    "import torch.optim as opt\n",
    "import torch.nn as nn\n",
    "import os\n",
    "import cv2\n",
    "from torch.utils.data import DataLoader\n",
    "from torchvision import datasets, transforms"
   ]
  },
  {
   "cell_type": "markdown",
   "metadata": {},
   "source": [
    "### Path to training and testing datasets"
   ]
  },
  {
   "cell_type": "code",
   "execution_count": 5,
   "metadata": {},
   "outputs": [],
   "source": [
    "PATH = \"C:/Users/Ato/Documents/Programming/Python/catdog/src/datasets\"\n",
    "train_path = PATH + \"/train\"\n",
    "test_path = PATH + \"/test1/test1\""
   ]
  },
  {
   "cell_type": "markdown",
   "metadata": {},
   "source": [
    "## Preprocessing and Observations"
   ]
  },
  {
   "cell_type": "markdown",
   "metadata": {},
   "source": [
    "#### Entries and number of samples of each class"
   ]
  },
  {
   "cell_type": "code",
   "execution_count": 6,
   "metadata": {},
   "outputs": [
    {
     "name": "stdout",
     "output_type": "stream",
     "text": [
      "25000\n",
      "12500\n"
     ]
    }
   ],
   "source": [
    "print(len(os.listdir(train_path)))\n",
    "print(len(os.listdir(test_path)))\n"
   ]
  },
  {
   "cell_type": "markdown",
   "metadata": {},
   "source": [
    "- Taking a look at the filenames, it is possible extracting the name and label with ease with:"
   ]
  },
  {
   "cell_type": "code",
   "execution_count": 7,
   "metadata": {},
   "outputs": [],
   "source": [
    "filenames = os.listdir(train_path)\n",
    "labels = [filename.split('.')[0] for filename in filenames]"
   ]
  },
  {
   "cell_type": "code",
   "execution_count": 8,
   "metadata": {},
   "outputs": [],
   "source": [
    "raw_data = {'filename': filenames, 'label': labels}\n",
    "df = pd.DataFrame(raw_data)\n"
   ]
  },
  {
   "cell_type": "code",
   "execution_count": 9,
   "metadata": {},
   "outputs": [
    {
     "data": {
      "text/html": [
       "<div>\n",
       "<style scoped>\n",
       "    .dataframe tbody tr th:only-of-type {\n",
       "        vertical-align: middle;\n",
       "    }\n",
       "\n",
       "    .dataframe tbody tr th {\n",
       "        vertical-align: top;\n",
       "    }\n",
       "\n",
       "    .dataframe thead th {\n",
       "        text-align: right;\n",
       "    }\n",
       "</style>\n",
       "<table border=\"1\" class=\"dataframe\">\n",
       "  <thead>\n",
       "    <tr style=\"text-align: right;\">\n",
       "      <th></th>\n",
       "      <th>filename</th>\n",
       "      <th>label</th>\n",
       "    </tr>\n",
       "  </thead>\n",
       "  <tbody>\n",
       "    <tr>\n",
       "      <th>0</th>\n",
       "      <td>cat.0.jpg</td>\n",
       "      <td>cat</td>\n",
       "    </tr>\n",
       "    <tr>\n",
       "      <th>1</th>\n",
       "      <td>cat.1.jpg</td>\n",
       "      <td>cat</td>\n",
       "    </tr>\n",
       "    <tr>\n",
       "      <th>2</th>\n",
       "      <td>cat.10.jpg</td>\n",
       "      <td>cat</td>\n",
       "    </tr>\n",
       "    <tr>\n",
       "      <th>3</th>\n",
       "      <td>cat.100.jpg</td>\n",
       "      <td>cat</td>\n",
       "    </tr>\n",
       "    <tr>\n",
       "      <th>4</th>\n",
       "      <td>cat.1000.jpg</td>\n",
       "      <td>cat</td>\n",
       "    </tr>\n",
       "  </tbody>\n",
       "</table>\n",
       "</div>"
      ],
      "text/plain": [
       "       filename label\n",
       "0     cat.0.jpg   cat\n",
       "1     cat.1.jpg   cat\n",
       "2    cat.10.jpg   cat\n",
       "3   cat.100.jpg   cat\n",
       "4  cat.1000.jpg   cat"
      ]
     },
     "execution_count": 9,
     "metadata": {},
     "output_type": "execute_result"
    }
   ],
   "source": [
    "df.head()"
   ]
  },
  {
   "cell_type": "code",
   "execution_count": 10,
   "metadata": {},
   "outputs": [
    {
     "data": {
      "text/html": [
       "<div>\n",
       "<style scoped>\n",
       "    .dataframe tbody tr th:only-of-type {\n",
       "        vertical-align: middle;\n",
       "    }\n",
       "\n",
       "    .dataframe tbody tr th {\n",
       "        vertical-align: top;\n",
       "    }\n",
       "\n",
       "    .dataframe thead th {\n",
       "        text-align: right;\n",
       "    }\n",
       "</style>\n",
       "<table border=\"1\" class=\"dataframe\">\n",
       "  <thead>\n",
       "    <tr style=\"text-align: right;\">\n",
       "      <th></th>\n",
       "      <th>filename</th>\n",
       "      <th>label</th>\n",
       "    </tr>\n",
       "  </thead>\n",
       "  <tbody>\n",
       "    <tr>\n",
       "      <th>count</th>\n",
       "      <td>25000</td>\n",
       "      <td>25000</td>\n",
       "    </tr>\n",
       "    <tr>\n",
       "      <th>unique</th>\n",
       "      <td>25000</td>\n",
       "      <td>2</td>\n",
       "    </tr>\n",
       "    <tr>\n",
       "      <th>top</th>\n",
       "      <td>cat.0.jpg</td>\n",
       "      <td>cat</td>\n",
       "    </tr>\n",
       "    <tr>\n",
       "      <th>freq</th>\n",
       "      <td>1</td>\n",
       "      <td>12500</td>\n",
       "    </tr>\n",
       "  </tbody>\n",
       "</table>\n",
       "</div>"
      ],
      "text/plain": [
       "         filename  label\n",
       "count       25000  25000\n",
       "unique      25000      2\n",
       "top     cat.0.jpg    cat\n",
       "freq            1  12500"
      ]
     },
     "execution_count": 10,
     "metadata": {},
     "output_type": "execute_result"
    }
   ],
   "source": [
    "df.describe()"
   ]
  },
  {
   "cell_type": "markdown",
   "metadata": {},
   "source": [
    "#### Checking balance"
   ]
  },
  {
   "cell_type": "code",
   "execution_count": 11,
   "metadata": {},
   "outputs": [
    {
     "name": "stderr",
     "output_type": "stream",
     "text": [
      "No artists with labels found to put in legend.  Note that artists whose label start with an underscore are ignored when legend() is called with no argument.\n"
     ]
    },
    {
     "data": {
      "text/plain": [
       "<function matplotlib.pyplot.show(close=None, block=None)>"
      ]
     },
     "execution_count": 11,
     "metadata": {},
     "output_type": "execute_result"
    },
    {
     "data": {
      "image/png": "[encoded data removed]",
      "text/plain": [
       "<Figure size 640x480 with 1 Axes>"
      ]
     },
     "metadata": {},
     "output_type": "display_data"
    }
   ],
   "source": [
    "fig, ax = plt.subplots()\n",
    "bar_labels = df['label'].value_counts().index\n",
    "counts = df['label'].value_counts().values\n",
    "bar_colors = ['tab:red', 'tab:blue']\n",
    "\n",
    "ax.bar(bar_labels, counts, color=bar_colors)\n",
    "ax.legend(title=\"Data balance check\")\n",
    "\n",
    "plt.show"
   ]
  },
  {
   "cell_type": "markdown",
   "metadata": {},
   "source": [
    "The data is balanced! Let's continue."
   ]
  },
  {
   "cell_type": "markdown",
   "metadata": {},
   "source": [
    "## Analizing dimensions, shapes, sizes,...\n",
    "\n",
    "- Take a smaller sample but big enough to contain useful information. sample = 5000"
   ]
  },
  {
   "cell_type": "code",
   "execution_count": 12,
   "metadata": {},
   "outputs": [],
   "source": [
    "import cv2\n",
    "from PIL import Image"
   ]
  },
  {
   "cell_type": "code",
   "execution_count": 13,
   "metadata": {},
   "outputs": [],
   "source": [
    "sample_size = 5000\n",
    "sample_images = df['filename'].sample(sample_size).to_list()\n"
   ]
  },
  {
   "cell_type": "code",
   "execution_count": 15,
   "metadata": {},
   "outputs": [],
   "source": [
    "width = []\n",
    "height = []\n",
    "channels = [] # channels\n",
    "\n",
    "for filename in sample_images:\n",
    "  image = cv2.imread(os.path.join(train_path, filename), 1)\n",
    "  width.append(image.shape[1])\n",
    "  height.append(image.shape[0])\n",
    "  channels.append(image.shape[2])\n",
    "\n",
    "\n"
   ]
  },
  {
   "cell_type": "code",
   "execution_count": 17,
   "metadata": {},
   "outputs": [
    {
     "data": {
      "text/html": [
       "<div>\n",
       "<style scoped>\n",
       "    .dataframe tbody tr th:only-of-type {\n",
       "        vertical-align: middle;\n",
       "    }\n",
       "\n",
       "    .dataframe tbody tr th {\n",
       "        vertical-align: top;\n",
       "    }\n",
       "\n",
       "    .dataframe thead th {\n",
       "        text-align: right;\n",
       "    }\n",
       "</style>\n",
       "<table border=\"1\" class=\"dataframe\">\n",
       "  <thead>\n",
       "    <tr style=\"text-align: right;\">\n",
       "      <th></th>\n",
       "      <th>width</th>\n",
       "      <th>height</th>\n",
       "      <th>channels</th>\n",
       "    </tr>\n",
       "  </thead>\n",
       "  <tbody>\n",
       "    <tr>\n",
       "      <th>0</th>\n",
       "      <td>500</td>\n",
       "      <td>374</td>\n",
       "      <td>3</td>\n",
       "    </tr>\n",
       "    <tr>\n",
       "      <th>1</th>\n",
       "      <td>500</td>\n",
       "      <td>374</td>\n",
       "      <td>3</td>\n",
       "    </tr>\n",
       "    <tr>\n",
       "      <th>2</th>\n",
       "      <td>374</td>\n",
       "      <td>500</td>\n",
       "      <td>3</td>\n",
       "    </tr>\n",
       "    <tr>\n",
       "      <th>3</th>\n",
       "      <td>386</td>\n",
       "      <td>500</td>\n",
       "      <td>3</td>\n",
       "    </tr>\n",
       "    <tr>\n",
       "      <th>4</th>\n",
       "      <td>200</td>\n",
       "      <td>243</td>\n",
       "      <td>3</td>\n",
       "    </tr>\n",
       "  </tbody>\n",
       "</table>\n",
       "</div>"
      ],
      "text/plain": [
       "   width  height  channels\n",
       "0    500     374         3\n",
       "1    500     374         3\n",
       "2    374     500         3\n",
       "3    386     500         3\n",
       "4    200     243         3"
      ]
     },
     "execution_count": 17,
     "metadata": {},
     "output_type": "execute_result"
    }
   ],
   "source": [
    "sample_dimensions = pd.DataFrame({\n",
    "  'width':width,\n",
    "  'height':height,  \n",
    "  'channels':channels\n",
    "})\n",
    "\n",
    "sample_dimensions.head()"
   ]
  },
  {
   "cell_type": "code",
   "execution_count": 18,
   "metadata": {},
   "outputs": [],
   "source": [
    "sample_dimensions['aspect ratio'] = sample_dimensions['width']/sample_dimensions['height']"
   ]
  },
  {
   "cell_type": "code",
   "execution_count": 19,
   "metadata": {},
   "outputs": [
    {
     "data": {
      "text/html": [
       "<div>\n",
       "<style scoped>\n",
       "    .dataframe tbody tr th:only-of-type {\n",
       "        vertical-align: middle;\n",
       "    }\n",
       "\n",
       "    .dataframe tbody tr th {\n",
       "        vertical-align: top;\n",
       "    }\n",
       "\n",
       "    .dataframe thead th {\n",
       "        text-align: right;\n",
       "    }\n",
       "</style>\n",
       "<table border=\"1\" class=\"dataframe\">\n",
       "  <thead>\n",
       "    <tr style=\"text-align: right;\">\n",
       "      <th></th>\n",
       "      <th>width</th>\n",
       "      <th>height</th>\n",
       "      <th>channels</th>\n",
       "      <th>aspect ratio</th>\n",
       "    </tr>\n",
       "  </thead>\n",
       "  <tbody>\n",
       "    <tr>\n",
       "      <th>0</th>\n",
       "      <td>500</td>\n",
       "      <td>374</td>\n",
       "      <td>3</td>\n",
       "      <td>1.336898</td>\n",
       "    </tr>\n",
       "    <tr>\n",
       "      <th>1</th>\n",
       "      <td>500</td>\n",
       "      <td>374</td>\n",
       "      <td>3</td>\n",
       "      <td>1.336898</td>\n",
       "    </tr>\n",
       "    <tr>\n",
       "      <th>2</th>\n",
       "      <td>374</td>\n",
       "      <td>500</td>\n",
       "      <td>3</td>\n",
       "      <td>0.748000</td>\n",
       "    </tr>\n",
       "    <tr>\n",
       "      <th>3</th>\n",
       "      <td>386</td>\n",
       "      <td>500</td>\n",
       "      <td>3</td>\n",
       "      <td>0.772000</td>\n",
       "    </tr>\n",
       "    <tr>\n",
       "      <th>4</th>\n",
       "      <td>200</td>\n",
       "      <td>243</td>\n",
       "      <td>3</td>\n",
       "      <td>0.823045</td>\n",
       "    </tr>\n",
       "  </tbody>\n",
       "</table>\n",
       "</div>"
      ],
      "text/plain": [
       "   width  height  channels  aspect ratio\n",
       "0    500     374         3      1.336898\n",
       "1    500     374         3      1.336898\n",
       "2    374     500         3      0.748000\n",
       "3    386     500         3      0.772000\n",
       "4    200     243         3      0.823045"
      ]
     },
     "execution_count": 19,
     "metadata": {},
     "output_type": "execute_result"
    }
   ],
   "source": [
    "sample_dimensions.head()"
   ]
  },
  {
   "cell_type": "code",
   "execution_count": 20,
   "metadata": {},
   "outputs": [
    {
     "data": {
      "text/html": [
       "<div>\n",
       "<style scoped>\n",
       "    .dataframe tbody tr th:only-of-type {\n",
       "        vertical-align: middle;\n",
       "    }\n",
       "\n",
       "    .dataframe tbody tr th {\n",
       "        vertical-align: top;\n",
       "    }\n",
       "\n",
       "    .dataframe thead th {\n",
       "        text-align: right;\n",
       "    }\n",
       "</style>\n",
       "<table border=\"1\" class=\"dataframe\">\n",
       "  <thead>\n",
       "    <tr style=\"text-align: right;\">\n",
       "      <th></th>\n",
       "      <th>width</th>\n",
       "      <th>height</th>\n",
       "      <th>channels</th>\n",
       "      <th>aspect ratio</th>\n",
       "    </tr>\n",
       "  </thead>\n",
       "  <tbody>\n",
       "    <tr>\n",
       "      <th>count</th>\n",
       "      <td>5000.000000</td>\n",
       "      <td>5000.000000</td>\n",
       "      <td>5000.0</td>\n",
       "      <td>5000.000000</td>\n",
       "    </tr>\n",
       "    <tr>\n",
       "      <th>mean</th>\n",
       "      <td>403.047200</td>\n",
       "      <td>361.025400</td>\n",
       "      <td>3.0</td>\n",
       "      <td>1.151117</td>\n",
       "    </tr>\n",
       "    <tr>\n",
       "      <th>std</th>\n",
       "      <td>108.838622</td>\n",
       "      <td>96.137044</td>\n",
       "      <td>0.0</td>\n",
       "      <td>0.288460</td>\n",
       "    </tr>\n",
       "    <tr>\n",
       "      <th>min</th>\n",
       "      <td>50.000000</td>\n",
       "      <td>32.000000</td>\n",
       "      <td>3.0</td>\n",
       "      <td>0.350000</td>\n",
       "    </tr>\n",
       "    <tr>\n",
       "      <th>25%</th>\n",
       "      <td>321.000000</td>\n",
       "      <td>303.000000</td>\n",
       "      <td>3.0</td>\n",
       "      <td>0.919830</td>\n",
       "    </tr>\n",
       "    <tr>\n",
       "      <th>50%</th>\n",
       "      <td>442.000000</td>\n",
       "      <td>374.000000</td>\n",
       "      <td>3.0</td>\n",
       "      <td>1.256281</td>\n",
       "    </tr>\n",
       "    <tr>\n",
       "      <th>75%</th>\n",
       "      <td>499.000000</td>\n",
       "      <td>421.000000</td>\n",
       "      <td>3.0</td>\n",
       "      <td>1.336898</td>\n",
       "    </tr>\n",
       "    <tr>\n",
       "      <th>max</th>\n",
       "      <td>500.000000</td>\n",
       "      <td>500.000000</td>\n",
       "      <td>3.0</td>\n",
       "      <td>2.840909</td>\n",
       "    </tr>\n",
       "  </tbody>\n",
       "</table>\n",
       "</div>"
      ],
      "text/plain": [
       "             width       height  channels  aspect ratio\n",
       "count  5000.000000  5000.000000    5000.0   5000.000000\n",
       "mean    403.047200   361.025400       3.0      1.151117\n",
       "std     108.838622    96.137044       0.0      0.288460\n",
       "min      50.000000    32.000000       3.0      0.350000\n",
       "25%     321.000000   303.000000       3.0      0.919830\n",
       "50%     442.000000   374.000000       3.0      1.256281\n",
       "75%     499.000000   421.000000       3.0      1.336898\n",
       "max     500.000000   500.000000       3.0      2.840909"
      ]
     },
     "execution_count": 20,
     "metadata": {},
     "output_type": "execute_result"
    }
   ],
   "source": [
    "sample_dimensions.describe()"
   ]
  },
  {
   "cell_type": "markdown",
   "metadata": {},
   "source": [
    "We calculate the percentile 95th, so we know what value the majority of the features have.\n",
    "\n",
    "It seems that most of the values are below 500 in width and height and hte aspect ratio is about 1.5, which means that the width is usually 1.5 times bigger than the height."
   ]
  },
  {
   "cell_type": "code",
   "execution_count": 21,
   "metadata": {},
   "outputs": [
    {
     "data": {
      "text/plain": [
       "(500.0, 500.0, 1.5105740181268883)"
      ]
     },
     "execution_count": 21,
     "metadata": {},
     "output_type": "execute_result"
    }
   ],
   "source": [
    "np.quantile(width, 0.95), np.quantile(height, 0.95), np.quantile(sample_dimensions['aspect ratio'], 0.95)"
   ]
  },
  {
   "cell_type": "markdown",
   "metadata": {},
   "source": [
    "- Trying with different methods to obtain the quantile. All produce the same value."
   ]
  },
  {
   "cell_type": "code",
   "execution_count": 22,
   "metadata": {},
   "outputs": [
    {
     "data": {
      "text/plain": [
       "(500.0, 500, 500, 500.0, 500.0, 500.0)"
      ]
     },
     "execution_count": 22,
     "metadata": {},
     "output_type": "execute_result"
    }
   ],
   "source": [
    "np.quantile(width, 0.95, method='hazen'), np.quantile(width, 0.95, method='closest_observation'), np.quantile(width, 0.95, method='higher'), np.quantile(width, 0.95, method='averaged_inverted_cdf'), np.quantile(width, 0.95, method='linear'), np.quantile(width, 0.95, method='median_unbiased')\n"
   ]
  },
  {
   "cell_type": "code",
   "execution_count": 23,
   "metadata": {},
   "outputs": [],
   "source": [
    "samplesandnames = sample_dimensions\n",
    "#print(sample_images[:10])\n",
    "samplesandnames['filename'] = sample_images"
   ]
  },
  {
   "cell_type": "markdown",
   "metadata": {},
   "source": [
    "## Removing Outliers"
   ]
  },
  {
   "cell_type": "markdown",
   "metadata": {},
   "source": [
    "The maximum goal is to preserve quality. From the quantiles, it has been deducted that most of the width and height values fall below 500 while the aspect ratio (AR) is 1.5 in the majority of cases. More data is lost when oversampling the images than when undersampling them, so only the smallest widths and heghts will be removed. Since most of the aspect ratio values fall below 1.5, all AR values between 0.7 and 2 will be removed as well.\n",
    "\n",
    "- Width > 150\n",
    "- Height > 100\n",
    "- 0.7 > Aspect Ratio > 2\n",
    "\n",
    "These values can be tuned to obtain different results.\n",
    "**The smaller the range, the lesser data.**\n"
   ]
  },
  {
   "cell_type": "code",
   "execution_count": 24,
   "metadata": {},
   "outputs": [],
   "source": [
    "processed_samples = samplesandnames[\n",
    "  (samplesandnames['width'] >= 150) &\n",
    "  (samplesandnames['height'] >= 100) &\n",
    "  (samplesandnames['aspect ratio'] >= 0.7) &\n",
    "  (samplesandnames['aspect ratio'] <= 2)\n",
    "]\n",
    "\n",
    "processed_samples = processed_samples.reset_index(drop=True)\n"
   ]
  },
  {
   "cell_type": "code",
   "execution_count": 25,
   "metadata": {},
   "outputs": [
    {
     "data": {
      "text/html": [
       "<div>\n",
       "<style scoped>\n",
       "    .dataframe tbody tr th:only-of-type {\n",
       "        vertical-align: middle;\n",
       "    }\n",
       "\n",
       "    .dataframe tbody tr th {\n",
       "        vertical-align: top;\n",
       "    }\n",
       "\n",
       "    .dataframe thead th {\n",
       "        text-align: right;\n",
       "    }\n",
       "</style>\n",
       "<table border=\"1\" class=\"dataframe\">\n",
       "  <thead>\n",
       "    <tr style=\"text-align: right;\">\n",
       "      <th></th>\n",
       "      <th>width</th>\n",
       "      <th>height</th>\n",
       "      <th>channels</th>\n",
       "      <th>aspect ratio</th>\n",
       "      <th>filename</th>\n",
       "    </tr>\n",
       "  </thead>\n",
       "  <tbody>\n",
       "    <tr>\n",
       "      <th>0</th>\n",
       "      <td>500</td>\n",
       "      <td>374</td>\n",
       "      <td>3</td>\n",
       "      <td>1.336898</td>\n",
       "      <td>cat.943.jpg</td>\n",
       "    </tr>\n",
       "    <tr>\n",
       "      <th>1</th>\n",
       "      <td>500</td>\n",
       "      <td>374</td>\n",
       "      <td>3</td>\n",
       "      <td>1.336898</td>\n",
       "      <td>dog.6695.jpg</td>\n",
       "    </tr>\n",
       "    <tr>\n",
       "      <th>2</th>\n",
       "      <td>374</td>\n",
       "      <td>500</td>\n",
       "      <td>3</td>\n",
       "      <td>0.748000</td>\n",
       "      <td>cat.1616.jpg</td>\n",
       "    </tr>\n",
       "    <tr>\n",
       "      <th>3</th>\n",
       "      <td>386</td>\n",
       "      <td>500</td>\n",
       "      <td>3</td>\n",
       "      <td>0.772000</td>\n",
       "      <td>dog.1224.jpg</td>\n",
       "    </tr>\n",
       "    <tr>\n",
       "      <th>4</th>\n",
       "      <td>200</td>\n",
       "      <td>243</td>\n",
       "      <td>3</td>\n",
       "      <td>0.823045</td>\n",
       "      <td>dog.3890.jpg</td>\n",
       "    </tr>\n",
       "  </tbody>\n",
       "</table>\n",
       "</div>"
      ],
      "text/plain": [
       "   width  height  channels  aspect ratio      filename\n",
       "0    500     374         3      1.336898   cat.943.jpg\n",
       "1    500     374         3      1.336898  dog.6695.jpg\n",
       "2    374     500         3      0.748000  cat.1616.jpg\n",
       "3    386     500         3      0.772000  dog.1224.jpg\n",
       "4    200     243         3      0.823045  dog.3890.jpg"
      ]
     },
     "execution_count": 25,
     "metadata": {},
     "output_type": "execute_result"
    }
   ],
   "source": [
    "processed_samples.head()"
   ]
  },
  {
   "cell_type": "markdown",
   "metadata": {},
   "source": [
    "Now that the **outliers** have been deleted, the amount of data reduced needs to be checked out. Looking at the outcome, most of the images are not considered outliers, although almost 10% of the sample data has been removed."
   ]
  },
  {
   "cell_type": "code",
   "execution_count": 26,
   "metadata": {},
   "outputs": [
    {
     "data": {
      "text/html": [
       "<div>\n",
       "<style scoped>\n",
       "    .dataframe tbody tr th:only-of-type {\n",
       "        vertical-align: middle;\n",
       "    }\n",
       "\n",
       "    .dataframe tbody tr th {\n",
       "        vertical-align: top;\n",
       "    }\n",
       "\n",
       "    .dataframe thead th {\n",
       "        text-align: right;\n",
       "    }\n",
       "</style>\n",
       "<table border=\"1\" class=\"dataframe\">\n",
       "  <thead>\n",
       "    <tr style=\"text-align: right;\">\n",
       "      <th></th>\n",
       "      <th>width</th>\n",
       "      <th>height</th>\n",
       "      <th>channels</th>\n",
       "      <th>aspect ratio</th>\n",
       "    </tr>\n",
       "  </thead>\n",
       "  <tbody>\n",
       "    <tr>\n",
       "      <th>count</th>\n",
       "      <td>4560.000000</td>\n",
       "      <td>4560.000000</td>\n",
       "      <td>4560.0</td>\n",
       "      <td>4560.000000</td>\n",
       "    </tr>\n",
       "    <tr>\n",
       "      <th>mean</th>\n",
       "      <td>417.577412</td>\n",
       "      <td>360.857018</td>\n",
       "      <td>3.0</td>\n",
       "      <td>1.185791</td>\n",
       "    </tr>\n",
       "    <tr>\n",
       "      <th>std</th>\n",
       "      <td>98.409689</td>\n",
       "      <td>88.651951</td>\n",
       "      <td>0.0</td>\n",
       "      <td>0.248915</td>\n",
       "    </tr>\n",
       "    <tr>\n",
       "      <th>min</th>\n",
       "      <td>150.000000</td>\n",
       "      <td>101.000000</td>\n",
       "      <td>3.0</td>\n",
       "      <td>0.700000</td>\n",
       "    </tr>\n",
       "    <tr>\n",
       "      <th>25%</th>\n",
       "      <td>350.000000</td>\n",
       "      <td>312.000000</td>\n",
       "      <td>3.0</td>\n",
       "      <td>0.987970</td>\n",
       "    </tr>\n",
       "    <tr>\n",
       "      <th>50%</th>\n",
       "      <td>473.000000</td>\n",
       "      <td>374.000000</td>\n",
       "      <td>3.0</td>\n",
       "      <td>1.322487</td>\n",
       "    </tr>\n",
       "    <tr>\n",
       "      <th>75%</th>\n",
       "      <td>499.000000</td>\n",
       "      <td>403.000000</td>\n",
       "      <td>3.0</td>\n",
       "      <td>1.336898</td>\n",
       "    </tr>\n",
       "    <tr>\n",
       "      <th>max</th>\n",
       "      <td>500.000000</td>\n",
       "      <td>500.000000</td>\n",
       "      <td>3.0</td>\n",
       "      <td>2.000000</td>\n",
       "    </tr>\n",
       "  </tbody>\n",
       "</table>\n",
       "</div>"
      ],
      "text/plain": [
       "             width       height  channels  aspect ratio\n",
       "count  4560.000000  4560.000000    4560.0   4560.000000\n",
       "mean    417.577412   360.857018       3.0      1.185791\n",
       "std      98.409689    88.651951       0.0      0.248915\n",
       "min     150.000000   101.000000       3.0      0.700000\n",
       "25%     350.000000   312.000000       3.0      0.987970\n",
       "50%     473.000000   374.000000       3.0      1.322487\n",
       "75%     499.000000   403.000000       3.0      1.336898\n",
       "max     500.000000   500.000000       3.0      2.000000"
      ]
     },
     "execution_count": 26,
     "metadata": {},
     "output_type": "execute_result"
    }
   ],
   "source": [
    "processed_samples.describe()"
   ]
  },
  {
   "cell_type": "markdown",
   "metadata": {},
   "source": [
    "# Global Preprocessing\n",
    "\n",
    "- The same sample preprocessing is now applied to all data."
   ]
  },
  {
   "cell_type": "code",
   "execution_count": 27,
   "metadata": {},
   "outputs": [],
   "source": [
    "import cv2\n",
    "from PIL import Image"
   ]
  },
  {
   "cell_type": "code",
   "execution_count": 28,
   "metadata": {},
   "outputs": [
    {
     "data": {
      "text/plain": [
       "(       filename label\n",
       " 0     cat.0.jpg   cat\n",
       " 1     cat.1.jpg   cat\n",
       " 2    cat.10.jpg   cat\n",
       " 3   cat.100.jpg   cat\n",
       " 4  cat.1000.jpg   cat,\n",
       " 25000)"
      ]
     },
     "execution_count": 28,
     "metadata": {},
     "output_type": "execute_result"
    }
   ],
   "source": [
    "df.head(), len(df.filename)"
   ]
  },
  {
   "cell_type": "code",
   "execution_count": 33,
   "metadata": {},
   "outputs": [],
   "source": [
    "width = []\n",
    "height = []\n",
    "\n",
    "for filename in df['filename']:\n",
    "  image = cv2.imread(os.path.join(train_path, filename))  \n",
    "\n",
    "  width.append(image.shape[1])\n",
    "  height.append(image.shape[0])\n",
    "\n",
    "    "
   ]
  },
  {
   "cell_type": "markdown",
   "metadata": {},
   "source": [
    "### Outliers Note\n",
    "\n",
    "- Width > 100\n",
    "- Height > 150\n",
    "- 0.7 > Aspect Ratio > 2"
   ]
  },
  {
   "cell_type": "code",
   "execution_count": 34,
   "metadata": {},
   "outputs": [],
   "source": [
    "full_data = pd.DataFrame({'filename': df['filename'], 'width': width, 'height': height, 'label': df['label']})"
   ]
  },
  {
   "cell_type": "code",
   "execution_count": 35,
   "metadata": {},
   "outputs": [],
   "source": [
    "full_data['aspect ratio'] = full_data['width'] / full_data['height']"
   ]
  },
  {
   "cell_type": "code",
   "execution_count": 36,
   "metadata": {},
   "outputs": [],
   "source": [
    "full_data = full_data[\n",
    "  (full_data['width'] >= 100) &\n",
    "  (full_data['height'] >= 150) &\n",
    "  (full_data['aspect ratio'] >= 0.7) &\n",
    "  (full_data['aspect ratio'] <= 2)\n",
    "]"
   ]
  },
  {
   "cell_type": "markdown",
   "metadata": {},
   "source": [
    "- Checking if the data is still balanced after preprocessing. It is!"
   ]
  },
  {
   "cell_type": "code",
   "execution_count": 37,
   "metadata": {},
   "outputs": [
    {
     "data": {
      "text/plain": [
       "Text(0, 0.5, 'Count')"
      ]
     },
     "execution_count": 37,
     "metadata": {},
     "output_type": "execute_result"
    },
    {
     "data": {
      "image/png": "[encoded data removed]",
      "text/plain": [
       "<Figure size 640x480 with 1 Axes>"
      ]
     },
     "metadata": {},
     "output_type": "display_data"
    }
   ],
   "source": [
    "full_data['label'].value_counts().sort_index().plot(kind='bar', color=['blue', 'red'])\n",
    "\n",
    "plt.title('Filtered dataset Balance')\n",
    "plt.xlabel('Label')\n",
    "plt.ylabel('Count')"
   ]
  },
  {
   "cell_type": "markdown",
   "metadata": {},
   "source": [
    "## Shuffle\n",
    "\n",
    "Before splitting into training and validation it is necessary to shuffle the data to avoid overfitting due to predetermined orders.\n"
   ]
  },
  {
   "cell_type": "code",
   "execution_count": 38,
   "metadata": {},
   "outputs": [
    {
     "data": {
      "text/html": [
       "<div>\n",
       "<style scoped>\n",
       "    .dataframe tbody tr th:only-of-type {\n",
       "        vertical-align: middle;\n",
       "    }\n",
       "\n",
       "    .dataframe tbody tr th {\n",
       "        vertical-align: top;\n",
       "    }\n",
       "\n",
       "    .dataframe thead th {\n",
       "        text-align: right;\n",
       "    }\n",
       "</style>\n",
       "<table border=\"1\" class=\"dataframe\">\n",
       "  <thead>\n",
       "    <tr style=\"text-align: right;\">\n",
       "      <th></th>\n",
       "      <th>width</th>\n",
       "      <th>height</th>\n",
       "      <th>aspect ratio</th>\n",
       "    </tr>\n",
       "  </thead>\n",
       "  <tbody>\n",
       "    <tr>\n",
       "      <th>count</th>\n",
       "      <td>22556.00000</td>\n",
       "      <td>22556.000000</td>\n",
       "      <td>22556.000000</td>\n",
       "    </tr>\n",
       "    <tr>\n",
       "      <th>mean</th>\n",
       "      <td>421.18709</td>\n",
       "      <td>363.225173</td>\n",
       "      <td>1.185901</td>\n",
       "    </tr>\n",
       "    <tr>\n",
       "      <th>std</th>\n",
       "      <td>96.20635</td>\n",
       "      <td>86.098052</td>\n",
       "      <td>0.247402</td>\n",
       "    </tr>\n",
       "    <tr>\n",
       "      <th>min</th>\n",
       "      <td>109.00000</td>\n",
       "      <td>150.000000</td>\n",
       "      <td>0.700000</td>\n",
       "    </tr>\n",
       "    <tr>\n",
       "      <th>25%</th>\n",
       "      <td>350.75000</td>\n",
       "      <td>314.000000</td>\n",
       "      <td>0.989432</td>\n",
       "    </tr>\n",
       "    <tr>\n",
       "      <th>50%</th>\n",
       "      <td>479.00000</td>\n",
       "      <td>374.000000</td>\n",
       "      <td>1.325231</td>\n",
       "    </tr>\n",
       "    <tr>\n",
       "      <th>75%</th>\n",
       "      <td>499.00000</td>\n",
       "      <td>405.000000</td>\n",
       "      <td>1.336898</td>\n",
       "    </tr>\n",
       "    <tr>\n",
       "      <th>max</th>\n",
       "      <td>1050.00000</td>\n",
       "      <td>768.000000</td>\n",
       "      <td>2.000000</td>\n",
       "    </tr>\n",
       "  </tbody>\n",
       "</table>\n",
       "</div>"
      ],
      "text/plain": [
       "             width        height  aspect ratio\n",
       "count  22556.00000  22556.000000  22556.000000\n",
       "mean     421.18709    363.225173      1.185901\n",
       "std       96.20635     86.098052      0.247402\n",
       "min      109.00000    150.000000      0.700000\n",
       "25%      350.75000    314.000000      0.989432\n",
       "50%      479.00000    374.000000      1.325231\n",
       "75%      499.00000    405.000000      1.336898\n",
       "max     1050.00000    768.000000      2.000000"
      ]
     },
     "execution_count": 38,
     "metadata": {},
     "output_type": "execute_result"
    }
   ],
   "source": [
    "# frac = 1 -> all data\n",
    "# drop=True --> removes old index and creates a new one for the new sorted dataframe\n",
    "# If no index is desired:\n",
    "#   1. full_data.sample(frac=1).reset_index(drop=True, inplace=True) -> with the original dataframe (full_data)\n",
    "#   2. shuffled_data.to_csv('shuffled_data.csv', index=False) -> with a new variable\n",
    "shuffled_data = full_data.sample(frac=1).reset_index(drop=True) \n",
    "shuffled_data.describe()"
   ]
  },
  {
   "cell_type": "markdown",
   "metadata": {},
   "source": [
    "## Validation - Training set split\n",
    "\n",
    "Since the features width, height and aspect ratio were created only for preprocessing purposes it is safe to remove them. Furthermore, it is a good practice to create a checkpoint of the data"
   ]
  },
  {
   "cell_type": "code",
   "execution_count": 112,
   "metadata": {},
   "outputs": [
    {
     "data": {
      "text/html": [
       "<div>\n",
       "<style scoped>\n",
       "    .dataframe tbody tr th:only-of-type {\n",
       "        vertical-align: middle;\n",
       "    }\n",
       "\n",
       "    .dataframe tbody tr th {\n",
       "        vertical-align: top;\n",
       "    }\n",
       "\n",
       "    .dataframe thead th {\n",
       "        text-align: right;\n",
       "    }\n",
       "</style>\n",
       "<table border=\"1\" class=\"dataframe\">\n",
       "  <thead>\n",
       "    <tr style=\"text-align: right;\">\n",
       "      <th></th>\n",
       "      <th>filename</th>\n",
       "      <th>width</th>\n",
       "      <th>height</th>\n",
       "      <th>label</th>\n",
       "      <th>aspect ratio</th>\n",
       "    </tr>\n",
       "  </thead>\n",
       "  <tbody>\n",
       "    <tr>\n",
       "      <th>0</th>\n",
       "      <td>dog.8559.jpg</td>\n",
       "      <td>500</td>\n",
       "      <td>374</td>\n",
       "      <td>dog</td>\n",
       "      <td>1.336898</td>\n",
       "    </tr>\n",
       "    <tr>\n",
       "      <th>1</th>\n",
       "      <td>dog.3995.jpg</td>\n",
       "      <td>461</td>\n",
       "      <td>499</td>\n",
       "      <td>dog</td>\n",
       "      <td>0.923848</td>\n",
       "    </tr>\n",
       "    <tr>\n",
       "      <th>2</th>\n",
       "      <td>dog.6898.jpg</td>\n",
       "      <td>386</td>\n",
       "      <td>500</td>\n",
       "      <td>dog</td>\n",
       "      <td>0.772000</td>\n",
       "    </tr>\n",
       "    <tr>\n",
       "      <th>3</th>\n",
       "      <td>dog.9949.jpg</td>\n",
       "      <td>298</td>\n",
       "      <td>377</td>\n",
       "      <td>dog</td>\n",
       "      <td>0.790451</td>\n",
       "    </tr>\n",
       "    <tr>\n",
       "      <th>4</th>\n",
       "      <td>cat.1770.jpg</td>\n",
       "      <td>500</td>\n",
       "      <td>415</td>\n",
       "      <td>cat</td>\n",
       "      <td>1.204819</td>\n",
       "    </tr>\n",
       "  </tbody>\n",
       "</table>\n",
       "</div>"
      ],
      "text/plain": [
       "       filename  width  height label  aspect ratio\n",
       "0  dog.8559.jpg    500     374   dog      1.336898\n",
       "1  dog.3995.jpg    461     499   dog      0.923848\n",
       "2  dog.6898.jpg    386     500   dog      0.772000\n",
       "3  dog.9949.jpg    298     377   dog      0.790451\n",
       "4  cat.1770.jpg    500     415   cat      1.204819"
      ]
     },
     "execution_count": 112,
     "metadata": {},
     "output_type": "execute_result"
    }
   ],
   "source": [
    "# Checkpoint\n",
    "\n",
    "'''\n",
    "Internally, in python, copy() method uses a pointer to the original data, which\n",
    "means that changes to the new object will affect the old. To overcome this, set deep=True.\n",
    "For non-pandas objects, use copy.deepcopy(<object>)\n",
    "'''\n",
    "\n",
    "data = shuffled_data.copy(deep=True)\n",
    "data.head()"
   ]
  },
  {
   "cell_type": "code",
   "execution_count": 113,
   "metadata": {},
   "outputs": [
    {
     "data": {
      "text/html": [
       "<div>\n",
       "<style scoped>\n",
       "    .dataframe tbody tr th:only-of-type {\n",
       "        vertical-align: middle;\n",
       "    }\n",
       "\n",
       "    .dataframe tbody tr th {\n",
       "        vertical-align: top;\n",
       "    }\n",
       "\n",
       "    .dataframe thead th {\n",
       "        text-align: right;\n",
       "    }\n",
       "</style>\n",
       "<table border=\"1\" class=\"dataframe\">\n",
       "  <thead>\n",
       "    <tr style=\"text-align: right;\">\n",
       "      <th></th>\n",
       "      <th>filename</th>\n",
       "      <th>label</th>\n",
       "    </tr>\n",
       "  </thead>\n",
       "  <tbody>\n",
       "    <tr>\n",
       "      <th>0</th>\n",
       "      <td>dog.8559.jpg</td>\n",
       "      <td>dog</td>\n",
       "    </tr>\n",
       "    <tr>\n",
       "      <th>1</th>\n",
       "      <td>dog.3995.jpg</td>\n",
       "      <td>dog</td>\n",
       "    </tr>\n",
       "    <tr>\n",
       "      <th>2</th>\n",
       "      <td>dog.6898.jpg</td>\n",
       "      <td>dog</td>\n",
       "    </tr>\n",
       "    <tr>\n",
       "      <th>3</th>\n",
       "      <td>dog.9949.jpg</td>\n",
       "      <td>dog</td>\n",
       "    </tr>\n",
       "    <tr>\n",
       "      <th>4</th>\n",
       "      <td>cat.1770.jpg</td>\n",
       "      <td>cat</td>\n",
       "    </tr>\n",
       "  </tbody>\n",
       "</table>\n",
       "</div>"
      ],
      "text/plain": [
       "       filename label\n",
       "0  dog.8559.jpg   dog\n",
       "1  dog.3995.jpg   dog\n",
       "2  dog.6898.jpg   dog\n",
       "3  dog.9949.jpg   dog\n",
       "4  cat.1770.jpg   cat"
      ]
     },
     "execution_count": 113,
     "metadata": {},
     "output_type": "execute_result"
    }
   ],
   "source": [
    "# Drop unwwanted features\n",
    "\n",
    "data = data.drop(['width', 'height', 'aspect ratio'], axis=1)\n",
    "data.head()"
   ]
  },
  {
   "cell_type": "markdown",
   "metadata": {},
   "source": [
    "- Set integers for labels instead of strings using a simple lambda function"
   ]
  },
  {
   "cell_type": "code",
   "execution_count": 114,
   "metadata": {},
   "outputs": [
    {
     "data": {
      "text/html": [
       "<div>\n",
       "<style scoped>\n",
       "    .dataframe tbody tr th:only-of-type {\n",
       "        vertical-align: middle;\n",
       "    }\n",
       "\n",
       "    .dataframe tbody tr th {\n",
       "        vertical-align: top;\n",
       "    }\n",
       "\n",
       "    .dataframe thead th {\n",
       "        text-align: right;\n",
       "    }\n",
       "</style>\n",
       "<table border=\"1\" class=\"dataframe\">\n",
       "  <thead>\n",
       "    <tr style=\"text-align: right;\">\n",
       "      <th></th>\n",
       "      <th>filename</th>\n",
       "      <th>label</th>\n",
       "    </tr>\n",
       "  </thead>\n",
       "  <tbody>\n",
       "    <tr>\n",
       "      <th>0</th>\n",
       "      <td>dog.8559.jpg</td>\n",
       "      <td>0</td>\n",
       "    </tr>\n",
       "    <tr>\n",
       "      <th>1</th>\n",
       "      <td>dog.3995.jpg</td>\n",
       "      <td>0</td>\n",
       "    </tr>\n",
       "    <tr>\n",
       "      <th>2</th>\n",
       "      <td>dog.6898.jpg</td>\n",
       "      <td>0</td>\n",
       "    </tr>\n",
       "    <tr>\n",
       "      <th>3</th>\n",
       "      <td>dog.9949.jpg</td>\n",
       "      <td>0</td>\n",
       "    </tr>\n",
       "    <tr>\n",
       "      <th>4</th>\n",
       "      <td>cat.1770.jpg</td>\n",
       "      <td>1</td>\n",
       "    </tr>\n",
       "  </tbody>\n",
       "</table>\n",
       "</div>"
      ],
      "text/plain": [
       "       filename  label\n",
       "0  dog.8559.jpg      0\n",
       "1  dog.3995.jpg      0\n",
       "2  dog.6898.jpg      0\n",
       "3  dog.9949.jpg      0\n",
       "4  cat.1770.jpg      1"
      ]
     },
     "execution_count": 114,
     "metadata": {},
     "output_type": "execute_result"
    }
   ],
   "source": [
    "data[\"label\"] = data[\"label\"].apply(lambda x: 0 if x == 'dog' else 1)\n",
    "data.head()"
   ]
  },
  {
   "cell_type": "code",
   "execution_count": 115,
   "metadata": {},
   "outputs": [
    {
     "data": {
      "text/plain": [
       "22556"
      ]
     },
     "execution_count": 115,
     "metadata": {},
     "output_type": "execute_result"
    }
   ],
   "source": [
    "data_length = len(data.index)\n",
    "data_length"
   ]
  },
  {
   "cell_type": "markdown",
   "metadata": {},
   "source": [
    "After preprocessing, there are still more than 22000 images. A ratio of 80% (training) 20% (validation) for this amoount of data seems correct"
   ]
  },
  {
   "cell_type": "code",
   "execution_count": 116,
   "metadata": {},
   "outputs": [
    {
     "name": "stdout",
     "output_type": "stream",
     "text": [
      "Rounded 18045\n",
      "int 18044\n",
      "float 18044.8\n",
      "Error round: 0.2000000000007276\n",
      "Error int: 0.7999999999992724\n"
     ]
    }
   ],
   "source": [
    "train_len_round = round(len(data.index)*0.8)\n",
    "train_len_int = int(len(data.index)*0.8)\n",
    "train_len_float = len(data.index)*0.8\n",
    "\n",
    "print(f'Rounded {train_len_round}')\n",
    "print(f'int {train_len_int}')\n",
    "print(f'float {train_len_float}')\n",
    "\n",
    "print(f'Error round: {abs(train_len_float-train_len_round)}')\n",
    "print(f'Error int: {abs(train_len_float-train_len_int)}')\n",
    "\n",
    "# More precision using round"
   ]
  },
  {
   "cell_type": "code",
   "execution_count": 117,
   "metadata": {},
   "outputs": [
    {
     "data": {
      "text/plain": [
       "((18045, 2), (4511, 2))"
      ]
     },
     "execution_count": 117,
     "metadata": {},
     "output_type": "execute_result"
    }
   ],
   "source": [
    "train_df = data.iloc[:train_len_round,:]\n",
    "val_df = data.iloc[train_len_round:, :]\n",
    "\n",
    "train_df.shape, val_df.shape"
   ]
  },
  {
   "cell_type": "code",
   "execution_count": 118,
   "metadata": {},
   "outputs": [
    {
     "data": {
      "text/plain": [
       "(0.8000088668203582, 0.1999911331796418)"
      ]
     },
     "execution_count": 118,
     "metadata": {},
     "output_type": "execute_result"
    }
   ],
   "source": [
    "train_df.shape[0]/data_length, val_df.shape[0]/data_length"
   ]
  },
  {
   "cell_type": "code",
   "execution_count": 119,
   "metadata": {},
   "outputs": [
    {
     "name": "stdout",
     "output_type": "stream",
     "text": [
      "Absolut errors: [8.86682035816655e-06, 8.86682035822206e-06]\n"
     ]
    }
   ],
   "source": [
    "abs_err_train = abs(0.8-train_df.shape[0]/data_length)\n",
    "abs_err_val = abs(0.2-val_df.shape[0]/data_length)\n",
    "\n",
    "errors = [abs_err_train, abs_err_val]\n",
    "\n",
    "print(f'Absolut errors: {errors}')"
   ]
  },
  {
   "cell_type": "markdown",
   "metadata": {},
   "source": [
    "Splitting completed with a small error (Ea ~ 8.87e-6)"
   ]
  },
  {
   "cell_type": "markdown",
   "metadata": {},
   "source": [
    "## Model with Pytorch\n",
    "\n",
    "The dataset will be fed to a convolutional neural network model. This model is defined below and its main file can be found in `/modules/cnn.py`. For the moment, it has 2 convolutional layers, 2 pooling layers and 3 fully connected layers. The input depends on the size of the kernels and the image resizing.\n",
    "To calculate the input-size in the neural networks, refer to https://github.com/BakiRhina/Cats-and-Dogs#important-note-on-fc1-shape.\n"
   ]
  },
  {
   "cell_type": "code",
   "execution_count": 120,
   "metadata": {},
   "outputs": [],
   "source": [
    "import torch\n",
    "import torch.nn as nn\n",
    "import torch.nn.functional as F\n",
    "\n",
    "class CNN(nn.Module):\n",
    "  def __init__(self):\n",
    "    super().__init__()\n",
    "    self.conv1 = nn.Conv2d(3,6,5) # (N_in_channels, N_out_channels, kernel_size)\n",
    "    self.conv2 = nn.Conv2d(6,16,5)\n",
    "    self.pool = nn.MaxPool2d(2,2)\n",
    "    self.fc1 = nn.Linear(16*93*61, 256)\n",
    "    self.fc2 = nn.Linear(256, 120)\n",
    "    self.fc3 = nn.Linear(120, 2)\n",
    "\n",
    "  def forward(self, x):\n",
    "    x = self.pool(F.relu(self.conv1(x)))\n",
    "    x = self.pool(F.relu(self.conv2(x)))\n",
    "    x = torch.flatten(x, 1) \n",
    "    x = F.relu(self.fc1(x))\n",
    "    x = F.relu(self.fc2(x))\n",
    "    x = self.fc3(x)\n",
    "    return x\n",
    "  \n"
   ]
  },
  {
   "cell_type": "markdown",
   "metadata": {},
   "source": [
    "Neural networks, specially if fed with big datasets containing images, consume lots of resources. That is why using cudas gpu is a good option if available, to reduce time consumption."
   ]
  },
  {
   "cell_type": "code",
   "execution_count": 121,
   "metadata": {},
   "outputs": [
    {
     "name": "stdout",
     "output_type": "stream",
     "text": [
      "Training on device: cuda:0\n"
     ]
    }
   ],
   "source": [
    "# Select GPU if available (cuda toolkit <= 11.8 for pytorch)\n",
    "device = torch.device('cuda:0' if torch.cuda.is_available() else 'cpu')\n",
    "print(f\"Training on device: {device}\")\n",
    "\n",
    "# Enables benchmark mode in cudnn to find the best algorithm to use for your hardware.\n",
    "#more info --> https://pytorch.org/docs/stable/backends.html#torch.backends.mps.is_built\n",
    "torch.backends.cudnn.benchmark = True"
   ]
  },
  {
   "cell_type": "markdown",
   "metadata": {},
   "source": [
    "As before, looking at the 95% percentile, the aspect ratio is around 1.5. Therefore, some combinations to try out, without loosing much resolution and information would be: (384,256,3);(256,256,3);(128,128,3);..."
   ]
  },
  {
   "cell_type": "code",
   "execution_count": 122,
   "metadata": {},
   "outputs": [],
   "source": [
    "#Uncomment to try different sizes\n",
    "\n",
    "input_shape = (384,256)\n",
    "#input_shape = (256,256)\n",
    "#input_shape = (128,128)\n",
    "\n",
    "df_transform = transforms.Compose([\n",
    "  transforms.Resize(input_shape),\n",
    "  transforms.ToTensor()\n",
    "])"
   ]
  },
  {
   "cell_type": "code",
   "execution_count": 123,
   "metadata": {},
   "outputs": [
    {
     "data": {
      "text/html": [
       "<div>\n",
       "<style scoped>\n",
       "    .dataframe tbody tr th:only-of-type {\n",
       "        vertical-align: middle;\n",
       "    }\n",
       "\n",
       "    .dataframe tbody tr th {\n",
       "        vertical-align: top;\n",
       "    }\n",
       "\n",
       "    .dataframe thead th {\n",
       "        text-align: right;\n",
       "    }\n",
       "</style>\n",
       "<table border=\"1\" class=\"dataframe\">\n",
       "  <thead>\n",
       "    <tr style=\"text-align: right;\">\n",
       "      <th></th>\n",
       "      <th>label</th>\n",
       "    </tr>\n",
       "  </thead>\n",
       "  <tbody>\n",
       "    <tr>\n",
       "      <th>count</th>\n",
       "      <td>18045.000000</td>\n",
       "    </tr>\n",
       "    <tr>\n",
       "      <th>mean</th>\n",
       "      <td>0.506511</td>\n",
       "    </tr>\n",
       "    <tr>\n",
       "      <th>std</th>\n",
       "      <td>0.499971</td>\n",
       "    </tr>\n",
       "    <tr>\n",
       "      <th>min</th>\n",
       "      <td>0.000000</td>\n",
       "    </tr>\n",
       "    <tr>\n",
       "      <th>25%</th>\n",
       "      <td>0.000000</td>\n",
       "    </tr>\n",
       "    <tr>\n",
       "      <th>50%</th>\n",
       "      <td>1.000000</td>\n",
       "    </tr>\n",
       "    <tr>\n",
       "      <th>75%</th>\n",
       "      <td>1.000000</td>\n",
       "    </tr>\n",
       "    <tr>\n",
       "      <th>max</th>\n",
       "      <td>1.000000</td>\n",
       "    </tr>\n",
       "  </tbody>\n",
       "</table>\n",
       "</div>"
      ],
      "text/plain": [
       "              label\n",
       "count  18045.000000\n",
       "mean       0.506511\n",
       "std        0.499971\n",
       "min        0.000000\n",
       "25%        0.000000\n",
       "50%        1.000000\n",
       "75%        1.000000\n",
       "max        1.000000"
      ]
     },
     "execution_count": 123,
     "metadata": {},
     "output_type": "execute_result"
    }
   ],
   "source": [
    "train_df.describe()"
   ]
  },
  {
   "cell_type": "markdown",
   "metadata": {},
   "source": [
    "- Why the custom dataset? It is possible to use the class Dataset to create Dataset-like objects and then pass it to the DataLoader. This class is optimized to be less memory consuming (processes data in separate cores in real time and feed it immediately to the model)"
   ]
  },
  {
   "cell_type": "code",
   "execution_count": 124,
   "metadata": {},
   "outputs": [],
   "source": [
    "from torch.utils.data import Dataset\n",
    "\n",
    "class CustomDataset(Dataset):\n",
    "  def __init__(self, dataframe, root_dir , transform=None):\n",
    "    self.dataframe = dataframe\n",
    "    self.root_dir = root_dir\n",
    "    self.transform = transform\n",
    "  \n",
    "  #DataLoader will automatically use these methods (__len__() and __getitem__())\n",
    "  #To calculate the amount of iterations with the selected batch\n",
    "  def __len__(self):\n",
    "    return len(self.dataframe)\n",
    "\n",
    "  #To select the samples of data form the dataframe\n",
    "  def __getitem__(self, idx):\n",
    "    img_filepath = os.path.join(self.root_dir, self.dataframe.iloc[idx, 0])\n",
    "    image = Image.open(img_filepath).convert(\"RGB\")\n",
    "    label = self.dataframe.iloc[idx, 1]\n",
    "\n",
    "    if self.transform:\n",
    "      image = self.transform(image)\n",
    "\n",
    "    return image, label\n",
    "  "
   ]
  },
  {
   "cell_type": "markdown",
   "metadata": {},
   "source": [
    "- Instance of training and validating sets"
   ]
  },
  {
   "cell_type": "code",
   "execution_count": 125,
   "metadata": {},
   "outputs": [],
   "source": [
    "train_set = CustomDataset(train_df, train_path, transform=df_transform)\n",
    "val_set = CustomDataset(val_df, train_path, transform=df_transform)"
   ]
  },
  {
   "cell_type": "markdown",
   "metadata": {},
   "source": [
    "- Torch loader with batch size of 16/32, and shuffled again."
   ]
  },
  {
   "cell_type": "code",
   "execution_count": 126,
   "metadata": {},
   "outputs": [],
   "source": [
    "batch_size = 32\n",
    "lr = 0.0001\n",
    "momentum = 0.9\n",
    "epochs = 2"
   ]
  },
  {
   "cell_type": "code",
   "execution_count": 127,
   "metadata": {},
   "outputs": [],
   "source": [
    "train_loader = DataLoader(train_set, batch_size=batch_size, shuffle=True)\n",
    "val_loader = DataLoader(val_set, batch_size=batch_size, shuffle=True)"
   ]
  },
  {
   "cell_type": "markdown",
   "metadata": {},
   "source": [
    "### Training loop"
   ]
  },
  {
   "cell_type": "code",
   "execution_count": 133,
   "metadata": {},
   "outputs": [
    {
     "name": "stdout",
     "output_type": "stream",
     "text": [
      "Epoch 0\n",
      "[1,    50] loss: 0.014\n",
      "[1,   100] loss: 0.013\n",
      "[1,   150] loss: 0.013\n",
      "[1,   200] loss: 0.014\n",
      "[1,   250] loss: 0.014\n",
      "[1,   300] loss: 0.014\n",
      "[1,   350] loss: 0.014\n",
      "[1,   400] loss: 0.014\n",
      "[1,   450] loss: 0.014\n",
      "[1,   500] loss: 0.014\n",
      "[1,   550] loss: 0.014\n",
      "Epoch 1\n",
      "[2,    50] loss: 0.014\n",
      "[2,   100] loss: 0.014\n",
      "[2,   150] loss: 0.013\n",
      "[2,   200] loss: 0.014\n",
      "[2,   250] loss: 0.014\n",
      "[2,   300] loss: 0.015\n",
      "[2,   350] loss: 0.014\n",
      "[2,   400] loss: 0.015\n",
      "[2,   450] loss: 0.015\n",
      "[2,   500] loss: 0.014\n",
      "[2,   550] loss: 0.014\n",
      "Training finished!\n"
     ]
    }
   ],
   "source": [
    "cnn = CNN().to(device)\n",
    "criterion = nn.CrossEntropyLoss()\n",
    "optimizer = opt.SGD(cnn.parameters(), lr, momentum)\n",
    "loss_values = []\n",
    "\n",
    "for epoch in range(0, epochs):\n",
    "  print(f'Epoch {epoch}')\n",
    "  running_loss = 0.0\n",
    "  for i, data in enumerate(train_loader, 0):\n",
    "    imgs, label = data\n",
    "    imgs, label = imgs.to(device), label.to(device)\n",
    "\n",
    "    # Forward pass + Backward pass + Gradient optimization\n",
    "\n",
    "    output = cnn(imgs)\n",
    "    loss = criterion(output, label)\n",
    "    loss.backward()\n",
    "    optimizer.step()\n",
    "\n",
    "    # print statistics\n",
    "    if i % 50 == 49:\n",
    "      running_loss += loss.item()\n",
    "      print(f'[{epoch + 1}, {i + 1:5d}] loss: {running_loss / 50:.3f}')\n",
    "      loss_values.append(running_loss)\n",
    "      running_loss = 0.0\n",
    "\n",
    "print(\"Training finished!\")"
   ]
  },
  {
   "cell_type": "markdown",
   "metadata": {},
   "source": [
    "- FC1 input calculation"
   ]
  },
  {
   "cell_type": "code",
   "execution_count": 129,
   "metadata": {},
   "outputs": [],
   "source": [
    "images, labels = next(iter(train_loader))"
   ]
  },
  {
   "cell_type": "code",
   "execution_count": 130,
   "metadata": {},
   "outputs": [
    {
     "name": "stdout",
     "output_type": "stream",
     "text": [
      "torch.Size([32, 3, 384, 256])\n",
      "torch.Size([32, 6, 380, 252])\n",
      "torch.Size([32, 6, 190, 126])\n",
      "torch.Size([32, 16, 186, 122])\n",
      "torch.Size([32, 16, 93, 61])\n",
      "torch.Size([32, 90768])\n"
     ]
    }
   ],
   "source": [
    "conv1 = nn.Conv2d(3,6,5)\n",
    "pool = nn.MaxPool2d(2,2)\n",
    "conv2 = nn.Conv2d(6,16,5)\n",
    "\n",
    "print(images.shape)\n",
    "\n",
    "x = conv1(images)\n",
    "print(x.shape)\n",
    "x = pool(x)\n",
    "print(x.shape)\n",
    "x = conv2(x)\n",
    "print(x.shape)\n",
    "x = pool(x)\n",
    "print(x.shape)\n",
    "x = torch.flatten(x, 1)\n",
    "print(x.shape)"
   ]
  },
  {
   "cell_type": "code",
   "execution_count": null,
   "metadata": {},
   "outputs": [],
   "source": []
  }
 ],
 "metadata": {
  "kernelspec": {
   "display_name": "env",
   "language": "python",
   "name": "python3"
  },
  "language_info": {
   "codemirror_mode": {
    "name": "ipython",
    "version": 3
   },
   "file_extension": ".py",
   "mimetype": "text/x-python",
   "name": "python",
   "nbconvert_exporter": "python",
   "pygments_lexer": "ipython3",
   "version": "3.11.0"
  }
 },
 "nbformat": 4,
 "nbformat_minor": 2
}
